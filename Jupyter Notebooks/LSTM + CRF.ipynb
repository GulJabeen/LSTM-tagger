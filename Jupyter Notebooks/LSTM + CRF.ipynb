{
 "cells": [
  {
   "cell_type": "markdown",
   "metadata": {},
   "source": [
    "# Importing Libraries"
   ]
  },
  {
   "cell_type": "code",
   "execution_count": 1,
   "metadata": {},
   "outputs": [
    {
     "name": "stderr",
     "output_type": "stream",
     "text": [
      "Using TensorFlow backend.\n",
      "C:\\Users\\gujabeen\\Anaconda3\\lib\\site-packages\\ipykernel_launcher.py:28: FutureWarning: Passing a negative integer is deprecated in version 1.0 and will not be supported in future version. Instead, use None to not limit the column width.\n"
     ]
    }
   ],
   "source": [
    "import pandas as pd\n",
    "import numpy as np\n",
    "import matplotlib.pyplot as plt\n",
    "plt.style.use(\"ggplot\")\n",
    "import tensorflow as tf\n",
    "from keras.utils import to_categorical\n",
    "from sklearn.model_selection import train_test_split\n",
    "from nltk.corpus import wordnet as wn\n",
    "import numpy\n",
    "from keras.models import Sequential\n",
    "from keras.layers import Dense\n",
    "from keras.layers import Dropout\n",
    "from keras.layers import LSTM\n",
    "from keras.callbacks import ModelCheckpoint\n",
    "from keras.models import Model, Input\n",
    "from keras.layers import LSTM, Embedding, Dense, TimeDistributed, Dropout, Bidirectional\n",
    "from keras.utils import np_utils\n",
    "from keras.preprocessing.text import Tokenizer\n",
    "from keras.preprocessing.sequence import pad_sequences\n",
    "from keras.layers import Dense, Dropout, Activation\n",
    "from keras.optimizers import SGD\n",
    "import keras\n",
    "import keras.utils\n",
    "from keras import utils as np_utils\n",
    "from keras.utils import to_categorical\n",
    "from keras.layers import Embedding\n",
    "from sklearn.preprocessing import LabelEncoder\n",
    "pd.set_option('display.max_colwidth', -1)\n",
    "from keras_contrib.layers import CRF"
   ]
  },
  {
   "cell_type": "markdown",
   "metadata": {},
   "source": [
    "### Function to read file and split the data into two cols; sentences and NER tags"
   ]
  },
  {
   "cell_type": "code",
   "execution_count": 2,
   "metadata": {},
   "outputs": [],
   "source": [
    "def readfile(filename):\n",
    "    '''\n",
    "    read file\n",
    "    '''\n",
    "    f = open(filename)\n",
    "    data = []\n",
    "    sentence = []\n",
    "    label = []\n",
    "    for line in f:\n",
    "        if len(line) == 0 or line.startswith('-DOCSTART') or line[0] == \"\\n\":\n",
    "            if len(sentence) > 0:\n",
    "                data.append((sentence, label))\n",
    "                sentence = []\n",
    "                label = []\n",
    "            continue\n",
    "        splits = line.split(' ')\n",
    "        sentence.append(splits[0])\n",
    "        label.append(splits[-1][:-1])\n",
    "    if len(sentence) > 0:\n",
    "        data.append((sentence, label))\n",
    "        sentence = []\n",
    "        label = []\n",
    "    return data"
   ]
  },
  {
   "cell_type": "markdown",
   "metadata": {},
   "source": [
    "# Data Preparation"
   ]
  },
  {
   "cell_type": "code",
   "execution_count": 3,
   "metadata": {},
   "outputs": [],
   "source": [
    "train=readfile('eng.train') # training data\n",
    "test=readfile('eng.testb') # test data\n",
    "colnames=['List1', 'List2'] \n",
    "# Training dataset\n",
    "df = pd.DataFrame(data=train)\n",
    "df.columns = ['List1', 'List2']"
   ]
  },
  {
   "cell_type": "code",
   "execution_count": 4,
   "metadata": {},
   "outputs": [
    {
     "data": {
      "text/html": [
       "<div>\n",
       "<style scoped>\n",
       "    .dataframe tbody tr th:only-of-type {\n",
       "        vertical-align: middle;\n",
       "    }\n",
       "\n",
       "    .dataframe tbody tr th {\n",
       "        vertical-align: top;\n",
       "    }\n",
       "\n",
       "    .dataframe thead th {\n",
       "        text-align: right;\n",
       "    }\n",
       "</style>\n",
       "<table border=\"1\" class=\"dataframe\">\n",
       "  <thead>\n",
       "    <tr style=\"text-align: right;\">\n",
       "      <th></th>\n",
       "      <th>List1</th>\n",
       "      <th>List2</th>\n",
       "    </tr>\n",
       "  </thead>\n",
       "  <tbody>\n",
       "    <tr>\n",
       "      <th>0</th>\n",
       "      <td>[EU, rejects, German, call, to, boycott, British, lamb, .]</td>\n",
       "      <td>[I-ORG, O, I-MISC, O, O, O, I-MISC, O, O]</td>\n",
       "    </tr>\n",
       "    <tr>\n",
       "      <th>1</th>\n",
       "      <td>[Peter, Blackburn]</td>\n",
       "      <td>[I-PER, I-PER]</td>\n",
       "    </tr>\n",
       "    <tr>\n",
       "      <th>2</th>\n",
       "      <td>[BRUSSELS, 1996-08-22]</td>\n",
       "      <td>[I-LOC, O]</td>\n",
       "    </tr>\n",
       "    <tr>\n",
       "      <th>3</th>\n",
       "      <td>[The, European, Commission, said, on, Thursday, it, disagreed, with, German, advice, to, consumers, to, shun, British, lamb, until, scientists, determine, whether, mad, cow, disease, can, be, transmitted, to, sheep, .]</td>\n",
       "      <td>[O, I-ORG, I-ORG, O, O, O, O, O, O, I-MISC, O, O, O, O, O, I-MISC, O, O, O, O, O, O, O, O, O, O, O, O, O, O]</td>\n",
       "    </tr>\n",
       "    <tr>\n",
       "      <th>4</th>\n",
       "      <td>[Germany, 's, representative, to, the, European, Union, 's, veterinary, committee, Werner, Zwingmann, said, on, Wednesday, consumers, should, buy, sheepmeat, from, countries, other, than, Britain, until, the, scientific, advice, was, clearer, .]</td>\n",
       "      <td>[I-LOC, O, O, O, O, I-ORG, I-ORG, O, O, O, I-PER, I-PER, O, O, O, O, O, O, O, O, O, O, O, I-LOC, O, O, O, O, O, O, O]</td>\n",
       "    </tr>\n",
       "    <tr>\n",
       "      <th>...</th>\n",
       "      <td>...</td>\n",
       "      <td>...</td>\n",
       "    </tr>\n",
       "    <tr>\n",
       "      <th>14036</th>\n",
       "      <td>[on, Friday, :]</td>\n",
       "      <td>[O, O, O]</td>\n",
       "    </tr>\n",
       "    <tr>\n",
       "      <th>14037</th>\n",
       "      <td>[Division, two]</td>\n",
       "      <td>[O, O]</td>\n",
       "    </tr>\n",
       "    <tr>\n",
       "      <th>14038</th>\n",
       "      <td>[Plymouth, 2, Preston, 1]</td>\n",
       "      <td>[I-ORG, O, I-ORG, O]</td>\n",
       "    </tr>\n",
       "    <tr>\n",
       "      <th>14039</th>\n",
       "      <td>[Division, three]</td>\n",
       "      <td>[O, O]</td>\n",
       "    </tr>\n",
       "    <tr>\n",
       "      <th>14040</th>\n",
       "      <td>[Swansea, 1, Lincoln, 2]</td>\n",
       "      <td>[I-ORG, O, I-ORG, O]</td>\n",
       "    </tr>\n",
       "  </tbody>\n",
       "</table>\n",
       "<p>14041 rows × 2 columns</p>\n",
       "</div>"
      ],
      "text/plain": [
       "                                                                                                                                                                                                                                                       List1  \\\n",
       "0      [EU, rejects, German, call, to, boycott, British, lamb, .]                                                                                                                                                                                              \n",
       "1      [Peter, Blackburn]                                                                                                                                                                                                                                      \n",
       "2      [BRUSSELS, 1996-08-22]                                                                                                                                                                                                                                  \n",
       "3      [The, European, Commission, said, on, Thursday, it, disagreed, with, German, advice, to, consumers, to, shun, British, lamb, until, scientists, determine, whether, mad, cow, disease, can, be, transmitted, to, sheep, .]                              \n",
       "4      [Germany, 's, representative, to, the, European, Union, 's, veterinary, committee, Werner, Zwingmann, said, on, Wednesday, consumers, should, buy, sheepmeat, from, countries, other, than, Britain, until, the, scientific, advice, was, clearer, .]   \n",
       "...                                                                                                                                                                                                                                                      ...   \n",
       "14036  [on, Friday, :]                                                                                                                                                                                                                                         \n",
       "14037  [Division, two]                                                                                                                                                                                                                                         \n",
       "14038  [Plymouth, 2, Preston, 1]                                                                                                                                                                                                                               \n",
       "14039  [Division, three]                                                                                                                                                                                                                                       \n",
       "14040  [Swansea, 1, Lincoln, 2]                                                                                                                                                                                                                                \n",
       "\n",
       "                                                                                                                       List2  \n",
       "0      [I-ORG, O, I-MISC, O, O, O, I-MISC, O, O]                                                                              \n",
       "1      [I-PER, I-PER]                                                                                                         \n",
       "2      [I-LOC, O]                                                                                                             \n",
       "3      [O, I-ORG, I-ORG, O, O, O, O, O, O, I-MISC, O, O, O, O, O, I-MISC, O, O, O, O, O, O, O, O, O, O, O, O, O, O]           \n",
       "4      [I-LOC, O, O, O, O, I-ORG, I-ORG, O, O, O, I-PER, I-PER, O, O, O, O, O, O, O, O, O, O, O, I-LOC, O, O, O, O, O, O, O]  \n",
       "...                                                                                                                      ...  \n",
       "14036  [O, O, O]                                                                                                              \n",
       "14037  [O, O]                                                                                                                 \n",
       "14038  [I-ORG, O, I-ORG, O]                                                                                                   \n",
       "14039  [O, O]                                                                                                                 \n",
       "14040  [I-ORG, O, I-ORG, O]                                                                                                   \n",
       "\n",
       "[14041 rows x 2 columns]"
      ]
     },
     "execution_count": 4,
     "metadata": {},
     "output_type": "execute_result"
    }
   ],
   "source": [
    "df"
   ]
  },
  {
   "cell_type": "code",
   "execution_count": 5,
   "metadata": {},
   "outputs": [],
   "source": [
    "# Test dataset for validation \n",
    "val_df = pd.DataFrame(data=test)\n",
    "val_df.columns = ['List1', 'List2']"
   ]
  },
  {
   "cell_type": "code",
   "execution_count": 6,
   "metadata": {},
   "outputs": [
    {
     "data": {
      "text/html": [
       "<div>\n",
       "<style scoped>\n",
       "    .dataframe tbody tr th:only-of-type {\n",
       "        vertical-align: middle;\n",
       "    }\n",
       "\n",
       "    .dataframe tbody tr th {\n",
       "        vertical-align: top;\n",
       "    }\n",
       "\n",
       "    .dataframe thead th {\n",
       "        text-align: right;\n",
       "    }\n",
       "</style>\n",
       "<table border=\"1\" class=\"dataframe\">\n",
       "  <thead>\n",
       "    <tr style=\"text-align: right;\">\n",
       "      <th></th>\n",
       "      <th>List1</th>\n",
       "      <th>List2</th>\n",
       "    </tr>\n",
       "  </thead>\n",
       "  <tbody>\n",
       "    <tr>\n",
       "      <th>0</th>\n",
       "      <td>[SOCCER, -, JAPAN, GET, LUCKY, WIN, ,, CHINA, IN, SURPRISE, DEFEAT, .]</td>\n",
       "      <td>[O, O, I-LOC, O, O, O, O, I-PER, O, O, O, O]</td>\n",
       "    </tr>\n",
       "    <tr>\n",
       "      <th>1</th>\n",
       "      <td>[Nadim, Ladki]</td>\n",
       "      <td>[I-PER, I-PER]</td>\n",
       "    </tr>\n",
       "    <tr>\n",
       "      <th>2</th>\n",
       "      <td>[AL-AIN, ,, United, Arab, Emirates, 1996-12-06]</td>\n",
       "      <td>[I-LOC, O, I-LOC, I-LOC, I-LOC, O]</td>\n",
       "    </tr>\n",
       "    <tr>\n",
       "      <th>3</th>\n",
       "      <td>[Japan, began, the, defence, of, their, Asian, Cup, title, with, a, lucky, 2-1, win, against, Syria, in, a, Group, C, championship, match, on, Friday, .]</td>\n",
       "      <td>[I-LOC, O, O, O, O, O, I-MISC, I-MISC, O, O, O, O, O, O, O, I-LOC, O, O, O, O, O, O, O, O, O]</td>\n",
       "    </tr>\n",
       "    <tr>\n",
       "      <th>4</th>\n",
       "      <td>[But, China, saw, their, luck, desert, them, in, the, second, match, of, the, group, ,, crashing, to, a, surprise, 2-0, defeat, to, newcomers, Uzbekistan, .]</td>\n",
       "      <td>[O, I-LOC, O, O, O, O, O, O, O, O, O, O, O, O, O, O, O, O, O, O, O, O, O, I-LOC, O]</td>\n",
       "    </tr>\n",
       "    <tr>\n",
       "      <th>...</th>\n",
       "      <td>...</td>\n",
       "      <td>...</td>\n",
       "    </tr>\n",
       "    <tr>\n",
       "      <th>3448</th>\n",
       "      <td>[That, is, why, this, is, so, emotional, a, night, for, me, ,, \", Charlton, said, .]</td>\n",
       "      <td>[O, O, O, O, O, O, O, O, O, O, O, O, O, I-PER, O, O]</td>\n",
       "    </tr>\n",
       "    <tr>\n",
       "      <th>3449</th>\n",
       "      <td>[\", It, was, the, joy, that, we, all, had, over, the, period, ,, that, I, shared, with, people, that, I, grew, to, love, ,, that, I, treasure, most, ,, \", he, added, .]</td>\n",
       "      <td>[O, O, O, O, O, O, O, O, O, O, O, O, O, O, O, O, O, O, O, O, O, O, O, O, O, O, O, O, O, O, O, O, O]</td>\n",
       "    </tr>\n",
       "    <tr>\n",
       "      <th>3450</th>\n",
       "      <td>[Charlton, managed, Ireland, for, 93, matches, ,, during, which, time, they, lost, only, 17, times, in, almost, 10, years, until, he, resigned, in, December, 1995, .]</td>\n",
       "      <td>[I-PER, O, I-LOC, O, O, O, O, O, O, O, O, O, O, O, O, O, O, O, O, O, O, O, O, O, O, O]</td>\n",
       "    </tr>\n",
       "    <tr>\n",
       "      <th>3451</th>\n",
       "      <td>[He, guided, Ireland, to, two, successive, World, Cup, finals, tournaments, and, to, the, 1988, European, championship, finals, in, Germany, ,, after, the, Irish, beat, a, well-fancied, England, team, 1-0, in, their, group, qualifier, .]</td>\n",
       "      <td>[O, O, I-LOC, O, O, O, I-MISC, I-MISC, O, O, O, O, O, O, I-MISC, O, O, O, I-LOC, O, O, O, I-MISC, O, O, O, I-LOC, O, O, O, O, O, O, O]</td>\n",
       "    </tr>\n",
       "    <tr>\n",
       "      <th>3452</th>\n",
       "      <td>[The, lanky, former, Leeds, United, defender, did, not, make, his, England, debut, until, the, age, of, 30, but, eventually, won, 35, caps, and, was, a, key, member, of, the, 1966, World, Cup, winning, team, with, his, younger, brother, ,, Bobby, .]</td>\n",
       "      <td>[O, O, O, I-ORG, I-ORG, O, O, O, O, O, I-LOC, O, O, O, O, O, O, O, O, O, O, O, O, O, O, O, O, O, O, I-MISC, I-MISC, I-MISC, O, O, O, O, O, O, O, I-PER, O]</td>\n",
       "    </tr>\n",
       "  </tbody>\n",
       "</table>\n",
       "<p>3453 rows × 2 columns</p>\n",
       "</div>"
      ],
      "text/plain": [
       "                                                                                                                                                                                                                                                          List1  \\\n",
       "0     [SOCCER, -, JAPAN, GET, LUCKY, WIN, ,, CHINA, IN, SURPRISE, DEFEAT, .]                                                                                                                                                                                      \n",
       "1     [Nadim, Ladki]                                                                                                                                                                                                                                              \n",
       "2     [AL-AIN, ,, United, Arab, Emirates, 1996-12-06]                                                                                                                                                                                                             \n",
       "3     [Japan, began, the, defence, of, their, Asian, Cup, title, with, a, lucky, 2-1, win, against, Syria, in, a, Group, C, championship, match, on, Friday, .]                                                                                                   \n",
       "4     [But, China, saw, their, luck, desert, them, in, the, second, match, of, the, group, ,, crashing, to, a, surprise, 2-0, defeat, to, newcomers, Uzbekistan, .]                                                                                               \n",
       "...                                                                                                                                                             ...                                                                                               \n",
       "3448  [That, is, why, this, is, so, emotional, a, night, for, me, ,, \", Charlton, said, .]                                                                                                                                                                        \n",
       "3449  [\", It, was, the, joy, that, we, all, had, over, the, period, ,, that, I, shared, with, people, that, I, grew, to, love, ,, that, I, treasure, most, ,, \", he, added, .]                                                                                    \n",
       "3450  [Charlton, managed, Ireland, for, 93, matches, ,, during, which, time, they, lost, only, 17, times, in, almost, 10, years, until, he, resigned, in, December, 1995, .]                                                                                      \n",
       "3451  [He, guided, Ireland, to, two, successive, World, Cup, finals, tournaments, and, to, the, 1988, European, championship, finals, in, Germany, ,, after, the, Irish, beat, a, well-fancied, England, team, 1-0, in, their, group, qualifier, .]               \n",
       "3452  [The, lanky, former, Leeds, United, defender, did, not, make, his, England, debut, until, the, age, of, 30, but, eventually, won, 35, caps, and, was, a, key, member, of, the, 1966, World, Cup, winning, team, with, his, younger, brother, ,, Bobby, .]   \n",
       "\n",
       "                                                                                                                                                           List2  \n",
       "0     [O, O, I-LOC, O, O, O, O, I-PER, O, O, O, O]                                                                                                                \n",
       "1     [I-PER, I-PER]                                                                                                                                              \n",
       "2     [I-LOC, O, I-LOC, I-LOC, I-LOC, O]                                                                                                                          \n",
       "3     [I-LOC, O, O, O, O, O, I-MISC, I-MISC, O, O, O, O, O, O, O, I-LOC, O, O, O, O, O, O, O, O, O]                                                               \n",
       "4     [O, I-LOC, O, O, O, O, O, O, O, O, O, O, O, O, O, O, O, O, O, O, O, O, O, I-LOC, O]                                                                         \n",
       "...                                                                                   ...                                                                         \n",
       "3448  [O, O, O, O, O, O, O, O, O, O, O, O, O, I-PER, O, O]                                                                                                        \n",
       "3449  [O, O, O, O, O, O, O, O, O, O, O, O, O, O, O, O, O, O, O, O, O, O, O, O, O, O, O, O, O, O, O, O, O]                                                         \n",
       "3450  [I-PER, O, I-LOC, O, O, O, O, O, O, O, O, O, O, O, O, O, O, O, O, O, O, O, O, O, O, O]                                                                      \n",
       "3451  [O, O, I-LOC, O, O, O, I-MISC, I-MISC, O, O, O, O, O, O, I-MISC, O, O, O, I-LOC, O, O, O, I-MISC, O, O, O, I-LOC, O, O, O, O, O, O, O]                      \n",
       "3452  [O, O, O, I-ORG, I-ORG, O, O, O, O, O, I-LOC, O, O, O, O, O, O, O, O, O, O, O, O, O, O, O, O, O, O, I-MISC, I-MISC, I-MISC, O, O, O, O, O, O, O, I-PER, O]  \n",
       "\n",
       "[3453 rows x 2 columns]"
      ]
     },
     "execution_count": 6,
     "metadata": {},
     "output_type": "execute_result"
    }
   ],
   "source": [
    "val_df"
   ]
  },
  {
   "cell_type": "code",
   "execution_count": 7,
   "metadata": {},
   "outputs": [],
   "source": [
    "# List of Sentences\n",
    "sentences=df[\"List1\"].values.tolist() #converting whole dataframe to list to pass it from tokenizer"
   ]
  },
  {
   "cell_type": "code",
   "execution_count": 8,
   "metadata": {},
   "outputs": [
    {
     "data": {
      "text/plain": [
       "['EU', 'rejects', 'German', 'call', 'to', 'boycott', 'British', 'lamb', '.']"
      ]
     },
     "execution_count": 8,
     "metadata": {},
     "output_type": "execute_result"
    }
   ],
   "source": [
    "sentences[0]"
   ]
  },
  {
   "cell_type": "code",
   "execution_count": 9,
   "metadata": {},
   "outputs": [],
   "source": [
    "# List of tags\n",
    "tags=df[\"List2\"].values.tolist()"
   ]
  },
  {
   "cell_type": "code",
   "execution_count": 10,
   "metadata": {},
   "outputs": [],
   "source": [
    "# List of sentences and tags for validation ( Tesz Dataset)\n",
    "\n",
    "val_sentences=val_df[\"List1\"].values.tolist()\n",
    "val_tags=val_df[\"List2\"].values.tolist()"
   ]
  },
  {
   "cell_type": "markdown",
   "metadata": {},
   "source": [
    "### Tokenizer Function\n",
    "\n",
    "This class allows to vectorize a text corpus, by turning each text into either a sequence of integers\n",
    "(each integer being the index of a token in a dictionary) or into a vector where the coefficient for \n",
    " each token could be binary, based on word count, based on tf-idf\n",
    "\n",
    "#### texts_to_sequences\n",
    "Transforms each text in texts to a sequence of integers.\n",
    "So it basically takes each word in the text and replaces it with its corresponding integer value from the word_index\n",
    "\n",
    "#### pad_sequences \n",
    "\n",
    "It is used to ensure that all sequences in a list have the same length. By default this is done by padding 0\n",
    "in the beginning of each sequence until each sequence has the same length as the longest sequence"
   ]
  },
  {
   "cell_type": "code",
   "execution_count": 11,
   "metadata": {},
   "outputs": [],
   "source": [
    "\n",
    "word_tokenizer = Tokenizer()\n",
    "word_tokenizer.fit_on_texts(sentences)  \n",
    "# number of common words: here we have 21010 common words\n",
    "common_words = len(word_tokenizer.word_index) + 1\n",
    "embedded_sentences = word_tokenizer.texts_to_sequences(sentences)\n",
    "max_len=max([len(seq) for seq in embedded_sentences]) \n",
    "X=np.array(pad_sequences(embedded_sentences,padding='post'))\n",
    "\n",
    "\n",
    "#same as above methods (NER tags preparation)\n",
    "label_tokenizer = Tokenizer()\n",
    "label_tokenizer.fit_on_texts(tags)\n",
    "embedded_labels = label_tokenizer.texts_to_sequences(tags)\n",
    "y=np.array(pad_sequences(embedded_labels,padding='post'))\n",
    "max_len_labels=len(label_tokenizer.word_index)+1\n",
    "\n",
    "\n",
    "\n",
    "    "
   ]
  },
  {
   "cell_type": "code",
   "execution_count": 12,
   "metadata": {},
   "outputs": [],
   "source": [
    "\n",
    "# to_categorical is used to convert array of labeled data(from 0 to nb_classes-1) to one-hot vector.\n",
    "y = [to_categorical(i, num_classes=max_len_labels) for i in y]\n",
    "X_tr=X\n",
    "y_tr=y"
   ]
  },
  {
   "cell_type": "markdown",
   "metadata": {},
   "source": [
    "# Model Setup"
   ]
  },
  {
   "cell_type": "markdown",
   "metadata": {},
   "source": [
    "###  Bi-LSTM network with an embedding layer\n",
    "\n",
    "inputs: The input(s) of the model: a keras.Input object or list of keras.Input objects. <br/>\n",
    "\n",
    "output_dim: Integer. Dimension of the dense embedding.<br />\n",
    "\n",
    "input_length: Length of input sequences, when it is constant. This argument is required if you are going to connect Flatten then Dense layers upstream (without it, the shape of the dense outputs cannot be computed). <br />\n",
    "\n",
    "The first hidden layer will have 100 memory units and the output layer will be a fully connected layer that \n",
    "outputs one value per timestep.\n",
    "\n",
    "TimeDistributed wrapper layer is used around the output layer so that one value per timestep can be predicted given\n",
    "the full sequence provided as input. This requires that the LSTM hidden layer returns a sequence of values (one per timestep)\n",
    "rather than a single value for the whole input sequence.<br />\n",
    "Softmax function: “returns a probability distribution over the target classes in a multiclass classification problem”  <br />\n",
    "\n",
    "This is a multi-class classification problem, the categorical log loss (categorical_crossentropy in Keras) is used.\n",
    "The efficient ADAM optimization algorithm isused to find the weights and the accuracy metric is calculated and reported\n",
    "each epoch."
   ]
  },
  {
   "cell_type": "code",
   "execution_count": 13,
   "metadata": {},
   "outputs": [
    {
     "name": "stderr",
     "output_type": "stream",
     "text": [
      "C:\\Users\\gujabeen\\Anaconda3\\lib\\site-packages\\keras_contrib-2.0.8-py3.7.egg\\keras_contrib\\layers\\crf.py:346: UserWarning: CRF.loss_function is deprecated and it might be removed in the future. Please use losses.crf_loss instead.\n",
      "C:\\Users\\gujabeen\\Anaconda3\\lib\\site-packages\\keras_contrib-2.0.8-py3.7.egg\\keras_contrib\\layers\\crf.py:353: UserWarning: CRF.accuracy is deprecated and it might be removed in the future. Please use metrics.crf_accuracy\n"
     ]
    }
   ],
   "source": [
    "\n",
    "input = Input(shape=(max_len,))\n",
    "model = Embedding(input_dim=common_words, output_dim=max_len, input_length=max_len)(input)  # 113-dim embedding\n",
    "model = Bidirectional(LSTM(units=100, return_sequences=True, dropout=0.5, recurrent_dropout=0.5))(model)  # variational biLSTM\n",
    "model = TimeDistributed(Dense(max_len_labels, activation=\"softmax\"))(model)  # softmax output layer\n",
    "crf = CRF(max_len_labels)  # CRF layer\n",
    "out = crf(model)\n",
    "model = Model(input, out)\n",
    "model.compile(optimizer=\"rmsprop\", loss=crf.loss_function, metrics=[crf.accuracy])"
   ]
  },
  {
   "cell_type": "code",
   "execution_count": 14,
   "metadata": {},
   "outputs": [
    {
     "name": "stdout",
     "output_type": "stream",
     "text": [
      "Model: \"model_1\"\n",
      "_________________________________________________________________\n",
      "Layer (type)                 Output Shape              Param #   \n",
      "=================================================================\n",
      "input_1 (InputLayer)         (None, 113)               0         \n",
      "_________________________________________________________________\n",
      "embedding_1 (Embedding)      (None, 113, 113)          2374130   \n",
      "_________________________________________________________________\n",
      "bidirectional_1 (Bidirection (None, 113, 200)          171200    \n",
      "_________________________________________________________________\n",
      "time_distributed_1 (TimeDist (None, 113, 9)            1809      \n",
      "_________________________________________________________________\n",
      "crf_1 (CRF)                  (None, 113, 9)            189       \n",
      "=================================================================\n",
      "Total params: 2,547,328\n",
      "Trainable params: 2,547,328\n",
      "Non-trainable params: 0\n",
      "_________________________________________________________________\n"
     ]
    }
   ],
   "source": [
    "model.summary()"
   ]
  },
  {
   "cell_type": "markdown",
   "metadata": {},
   "source": [
    "The LSTM will be trained for 5 epochs.\n",
    "One epoch is when an entire dataset is passed both forward and backward through the neural network only once\n",
    "The validation split variable in Keras is a value between [0..1]. Keras proportionally split your training set \n",
    "by the value of the variable.The first set is used for training and the 2nd set for validation after each epoch."
   ]
  },
  {
   "cell_type": "code",
   "execution_count": 15,
   "metadata": {
    "scrolled": true
   },
   "outputs": [
    {
     "name": "stderr",
     "output_type": "stream",
     "text": [
      "C:\\Users\\gujabeen\\Anaconda3\\lib\\site-packages\\tensorflow\\python\\framework\\indexed_slices.py:434: UserWarning: Converting sparse IndexedSlices to a dense Tensor of unknown shape. This may consume a large amount of memory.\n",
      "  \"Converting sparse IndexedSlices to a dense Tensor of unknown shape. \"\n"
     ]
    },
    {
     "name": "stdout",
     "output_type": "stream",
     "text": [
      "Train on 12636 samples, validate on 1405 samples\n",
      "Epoch 1/5\n",
      "12636/12636 [==============================] - 237s 19ms/step - loss: 0.9447 - crf_viterbi_accuracy: 0.8711 - val_loss: 0.3679 - val_crf_viterbi_accuracy: 0.9784\n",
      "Epoch 2/5\n",
      "12636/12636 [==============================] - 232s 18ms/step - loss: 0.1882 - crf_viterbi_accuracy: 0.9781 - val_loss: 0.1133 - val_crf_viterbi_accuracy: 0.9805\n",
      "Epoch 3/5\n",
      "12636/12636 [==============================] - 189s 15ms/step - loss: 0.1014 - crf_viterbi_accuracy: 0.9783 - val_loss: 0.0906 - val_crf_viterbi_accuracy: 0.9805\n",
      "Epoch 4/5\n",
      "12636/12636 [==============================] - 106s 8ms/step - loss: 0.0858 - crf_viterbi_accuracy: 0.9783 - val_loss: 0.0803 - val_crf_viterbi_accuracy: 0.9805\n",
      "Epoch 5/5\n",
      "12636/12636 [==============================] - 99s 8ms/step - loss: 0.0771 - crf_viterbi_accuracy: 0.9783 - val_loss: 0.0736 - val_crf_viterbi_accuracy: 0.9805\n"
     ]
    }
   ],
   "source": [
    "\n",
    "history = model.fit(X_tr, np.array(y_tr), batch_size=32, epochs=5, validation_split=0.1, verbose=1)\n"
   ]
  },
  {
   "cell_type": "code",
   "execution_count": 16,
   "metadata": {},
   "outputs": [],
   "source": [
    "hist = pd.DataFrame(history.history) # Saving all data from the model in dataframe to interpret results"
   ]
  },
  {
   "cell_type": "markdown",
   "metadata": {},
   "source": [
    "# Visualization of results"
   ]
  },
  {
   "cell_type": "code",
   "execution_count": 17,
   "metadata": {},
   "outputs": [],
   "source": [
    "def visualize_results(value, vali_value, label):\n",
    "    plt.plot(value)\n",
    "    plt.plot(vali_value)\n",
    "    plt.xlabel('Epoch')\n",
    "    plt.ylabel(label)\n",
    "    plt.title(label)\n",
    "    plt.show()"
   ]
  },
  {
   "cell_type": "code",
   "execution_count": 18,
   "metadata": {},
   "outputs": [
    {
     "data": {
      "image/png": "[encoded data removed]",
      "text/plain": [
       "<Figure size 432x288 with 1 Axes>"
      ]
     },
     "metadata": {},
     "output_type": "display_data"
    }
   ],
   "source": [
    "visualize_results(hist[\"crf_viterbi_accuracy\"], hist[\"val_crf_viterbi_accuracy\"], 'Accuracy')\n",
    "# visualize_results(hist[\"precision_m\"], hist[\"val_precision_m\"], 'Precison')\n",
    "# visualize_results(hist[\"recall_m\"], hist[\"val_recall_m\"], 'Recall')\n",
    "# visualize_results(hist[\"f1_m\"], hist[\"val_f1_m\"], 'F1-Score')"
   ]
  },
  {
   "cell_type": "markdown",
   "metadata": {},
   "source": [
    "# Evaluation of the model"
   ]
  },
  {
   "cell_type": "code",
   "execution_count": 19,
   "metadata": {},
   "outputs": [],
   "source": [
    "from sklearn.metrics import classification_report, confusion_matrix"
   ]
  },
  {
   "cell_type": "code",
   "execution_count": 20,
   "metadata": {},
   "outputs": [],
   "source": [
    "def add_padding_sentences(sentence,max_length): \n",
    "    val_input_sequences=word_tokenizer.texts_to_sequences(sentence) #padding\n",
    "    val_input_sequences=np.array(pad_sequences(val_input_sequences,padding='post', maxlen=max_length))\n",
    "    return val_input_sequences\n",
    "def add_padding_labels(labels,max_length):\n",
    "    val_tag_sequence=label_tokenizer.texts_to_sequences(labels)\n",
    "    val_tag_sequence=np.array(pad_sequences(val_tag_sequence,padding='post', maxlen=max_length))\n",
    "    return val_tag_sequence\n",
    "def predict_model(sequences): #predict \n",
    "    test_pred=model.predict(sequences)\n",
    "    test_pred=test_pred.argmax(axis=-1)\n",
    "    return test_pred\n",
    "def flatten_values(value): \n",
    "    y_true_=value.flatten()\n",
    "    return_index= np.vectorize(label_tokenizer.index_word.get)(y_true_)\n",
    "    return return_index\n"
   ]
  },
  {
   "cell_type": "code",
   "execution_count": 21,
   "metadata": {},
   "outputs": [],
   "source": [
    "val_input_sequences=add_padding_sentences(val_sentences,max_len)\n",
    "val_tag_sequences= add_padding_labels(val_tags,max_len)\n",
    "test_pred = predict_model(val_input_sequences)\n",
    "y_true_index=flatten_values(val_tag_sequences)\n",
    "test_pred_index=flatten_values(test_pred)\n",
    "# print(classification_report(y_true_index, test_pred_index))"
   ]
  },
  {
   "cell_type": "code",
   "execution_count": 22,
   "metadata": {},
   "outputs": [
    {
     "name": "stderr",
     "output_type": "stream",
     "text": [
      "C:\\Users\\gujabeen\\Anaconda3\\lib\\site-packages\\sklearn\\metrics\\_classification.py:1272: UndefinedMetricWarning: Precision and F-score are ill-defined and being set to 0.0 in labels with no predicted samples. Use `zero_division` parameter to control this behavior.\n",
      "  _warn_prf(average, modifier, msg_start, len(result))\n"
     ]
    },
    {
     "name": "stdout",
     "output_type": "stream",
     "text": [
      "              precision    recall  f1-score   support\n",
      "\n",
      "        None       0.99      1.00      0.99    343765\n",
      "       b-loc       0.00      0.00      0.00         6\n",
      "      b-misc       0.00      0.00      0.00         9\n",
      "       b-org       0.00      0.00      0.00         5\n",
      "       i-loc       0.00      0.00      0.00      1918\n",
      "      i-misc       0.00      0.00      0.00       909\n",
      "       i-org       0.00      0.00      0.00      2490\n",
      "       i-per       0.00      0.00      0.00      2771\n",
      "           o       0.82      0.89      0.85     38316\n",
      "\n",
      "    accuracy                           0.97    390189\n",
      "   macro avg       0.20      0.21      0.21    390189\n",
      "weighted avg       0.95      0.97      0.96    390189\n",
      "\n"
     ]
    }
   ],
   "source": [
    "print(classification_report(y_true_index, test_pred_index))"
   ]
  },
  {
   "cell_type": "markdown",
   "metadata": {},
   "source": [
    "Observations: BAD RESULTS because 'keras_contrib.layers import CRF' is deprecated. We need to use tensorflow CRF\n",
    "    "
   ]
  },
  {
   "cell_type": "code",
   "execution_count": null,
   "metadata": {},
   "outputs": [],
   "source": []
  }
 ],
 "metadata": {
  "kernelspec": {
   "display_name": "Python 3",
   "language": "python",
   "name": "python3"
  },
  "language_info": {
   "codemirror_mode": {
    "name": "ipython",
    "version": 3
   },
   "file_extension": ".py",
   "mimetype": "text/x-python",
   "name": "python",
   "nbconvert_exporter": "python",
   "pygments_lexer": "ipython3",
   "version": "3.7.6"
  }
 },
 "nbformat": 4,
 "nbformat_minor": 2
}
