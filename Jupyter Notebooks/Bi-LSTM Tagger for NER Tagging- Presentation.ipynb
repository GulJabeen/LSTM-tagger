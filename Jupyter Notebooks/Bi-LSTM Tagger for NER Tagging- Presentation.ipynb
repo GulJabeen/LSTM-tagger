{
 "cells": [
  {
   "cell_type": "markdown",
   "metadata": {},
   "source": [
    "# Importing Libraries"
   ]
  },
  {
   "cell_type": "code",
   "execution_count": 45,
   "metadata": {},
   "outputs": [
    {
     "name": "stderr",
     "output_type": "stream",
     "text": [
      "C:\\Users\\gujabeen\\Anaconda3\\lib\\site-packages\\ipykernel_launcher.py:22: FutureWarning: Passing a negative integer is deprecated in version 1.0 and will not be supported in future version. Instead, use None to not limit the column width.\n"
     ]
    }
   ],
   "source": [
    "import pandas as pd\n",
    "import numpy as np\n",
    "import matplotlib.pyplot as plt\n",
    "plt.style.use(\"ggplot\")\n",
    "import tensorflow as tf\n",
    "from sklearn.model_selection import train_test_split\n",
    "from nltk.corpus import wordnet as wn\n",
    "import numpy\n",
    "from keras.models import Sequential\n",
    "from keras.callbacks import ModelCheckpoint\n",
    "from keras.models import Model, Input\n",
    "from keras.layers import LSTM, Embedding, Dense, TimeDistributed, Dropout, Bidirectional\n",
    "from keras.preprocessing.text import Tokenizer\n",
    "from keras.preprocessing.sequence import pad_sequences\n",
    "from keras.layers import Dense, Dropout, Activation\n",
    "from keras.optimizers import SGD\n",
    "import keras\n",
    "import keras.utils\n",
    "from keras import utils as np_utils\n",
    "from keras.utils import to_categorical\n",
    "from sklearn.preprocessing import LabelEncoder\n",
    "pd.set_option('display.max_colwidth', -1)\n",
    "import warnings\n",
    "warnings.filterwarnings('ignore')"
   ]
  },
  {
   "cell_type": "markdown",
   "metadata": {},
   "source": [
    "# Data set \n",
    "\n",
    "\n",
    "![alt text](dataset_understanding.png \"Dataset\")"
   ]
  },
  {
   "cell_type": "markdown",
   "metadata": {},
   "source": [
    "### Function to read file and split the data into two cols; sentences and NER tags"
   ]
  },
  {
   "cell_type": "code",
   "execution_count": 2,
   "metadata": {},
   "outputs": [],
   "source": [
    "def readfile(filename):\n",
    "    '''\n",
    "    read file\n",
    "    '''\n",
    "    f = open(filename)\n",
    "    data = []\n",
    "    sentence = []\n",
    "    label = []\n",
    "    for line in f:\n",
    "        if len(line) == 0 or line.startswith('-DOCSTART') or line[0] == \"\\n\":\n",
    "            if len(sentence) > 0:\n",
    "                data.append((sentence, label))\n",
    "                sentence = []\n",
    "                label = []\n",
    "            continue\n",
    "        splits = line.split(' ')\n",
    "        sentence.append(splits[0])\n",
    "        label.append(splits[-1][:-1])\n",
    "    if len(sentence) > 0:\n",
    "        data.append((sentence, label))\n",
    "        sentence = []\n",
    "        label = []\n",
    "    return data"
   ]
  },
  {
   "cell_type": "markdown",
   "metadata": {},
   "source": [
    "# Data Preparation"
   ]
  },
  {
   "cell_type": "code",
   "execution_count": 3,
   "metadata": {},
   "outputs": [],
   "source": [
    "train=readfile('eng.train') # training data\n",
    "test=readfile('eng.testb') # test data\n",
    "colnames=['List1', 'List2'] \n",
    "# Training dataset\n",
    "df = pd.DataFrame(data=train)\n",
    "df.columns = ['List1', 'List2']"
   ]
  },
  {
   "cell_type": "code",
   "execution_count": 4,
   "metadata": {},
   "outputs": [
    {
     "data": {
      "text/html": [
       "<div>\n",
       "<style scoped>\n",
       "    .dataframe tbody tr th:only-of-type {\n",
       "        vertical-align: middle;\n",
       "    }\n",
       "\n",
       "    .dataframe tbody tr th {\n",
       "        vertical-align: top;\n",
       "    }\n",
       "\n",
       "    .dataframe thead th {\n",
       "        text-align: right;\n",
       "    }\n",
       "</style>\n",
       "<table border=\"1\" class=\"dataframe\">\n",
       "  <thead>\n",
       "    <tr style=\"text-align: right;\">\n",
       "      <th></th>\n",
       "      <th>List1</th>\n",
       "      <th>List2</th>\n",
       "    </tr>\n",
       "  </thead>\n",
       "  <tbody>\n",
       "    <tr>\n",
       "      <th>0</th>\n",
       "      <td>[EU, rejects, German, call, to, boycott, British, lamb, .]</td>\n",
       "      <td>[I-ORG, O, I-MISC, O, O, O, I-MISC, O, O]</td>\n",
       "    </tr>\n",
       "    <tr>\n",
       "      <th>1</th>\n",
       "      <td>[Peter, Blackburn]</td>\n",
       "      <td>[I-PER, I-PER]</td>\n",
       "    </tr>\n",
       "    <tr>\n",
       "      <th>2</th>\n",
       "      <td>[BRUSSELS, 1996-08-22]</td>\n",
       "      <td>[I-LOC, O]</td>\n",
       "    </tr>\n",
       "    <tr>\n",
       "      <th>3</th>\n",
       "      <td>[The, European, Commission, said, on, Thursday, it, disagreed, with, German, advice, to, consumers, to, shun, British, lamb, until, scientists, determine, whether, mad, cow, disease, can, be, transmitted, to, sheep, .]</td>\n",
       "      <td>[O, I-ORG, I-ORG, O, O, O, O, O, O, I-MISC, O, O, O, O, O, I-MISC, O, O, O, O, O, O, O, O, O, O, O, O, O, O]</td>\n",
       "    </tr>\n",
       "    <tr>\n",
       "      <th>4</th>\n",
       "      <td>[Germany, 's, representative, to, the, European, Union, 's, veterinary, committee, Werner, Zwingmann, said, on, Wednesday, consumers, should, buy, sheepmeat, from, countries, other, than, Britain, until, the, scientific, advice, was, clearer, .]</td>\n",
       "      <td>[I-LOC, O, O, O, O, I-ORG, I-ORG, O, O, O, I-PER, I-PER, O, O, O, O, O, O, O, O, O, O, O, I-LOC, O, O, O, O, O, O, O]</td>\n",
       "    </tr>\n",
       "    <tr>\n",
       "      <th>...</th>\n",
       "      <td>...</td>\n",
       "      <td>...</td>\n",
       "    </tr>\n",
       "    <tr>\n",
       "      <th>14036</th>\n",
       "      <td>[on, Friday, :]</td>\n",
       "      <td>[O, O, O]</td>\n",
       "    </tr>\n",
       "    <tr>\n",
       "      <th>14037</th>\n",
       "      <td>[Division, two]</td>\n",
       "      <td>[O, O]</td>\n",
       "    </tr>\n",
       "    <tr>\n",
       "      <th>14038</th>\n",
       "      <td>[Plymouth, 2, Preston, 1]</td>\n",
       "      <td>[I-ORG, O, I-ORG, O]</td>\n",
       "    </tr>\n",
       "    <tr>\n",
       "      <th>14039</th>\n",
       "      <td>[Division, three]</td>\n",
       "      <td>[O, O]</td>\n",
       "    </tr>\n",
       "    <tr>\n",
       "      <th>14040</th>\n",
       "      <td>[Swansea, 1, Lincoln, 2]</td>\n",
       "      <td>[I-ORG, O, I-ORG, O]</td>\n",
       "    </tr>\n",
       "  </tbody>\n",
       "</table>\n",
       "<p>14041 rows × 2 columns</p>\n",
       "</div>"
      ],
      "text/plain": [
       "                                                                                                                                                                                                                                                       List1  \\\n",
       "0      [EU, rejects, German, call, to, boycott, British, lamb, .]                                                                                                                                                                                              \n",
       "1      [Peter, Blackburn]                                                                                                                                                                                                                                      \n",
       "2      [BRUSSELS, 1996-08-22]                                                                                                                                                                                                                                  \n",
       "3      [The, European, Commission, said, on, Thursday, it, disagreed, with, German, advice, to, consumers, to, shun, British, lamb, until, scientists, determine, whether, mad, cow, disease, can, be, transmitted, to, sheep, .]                              \n",
       "4      [Germany, 's, representative, to, the, European, Union, 's, veterinary, committee, Werner, Zwingmann, said, on, Wednesday, consumers, should, buy, sheepmeat, from, countries, other, than, Britain, until, the, scientific, advice, was, clearer, .]   \n",
       "...                                                                                                                                                                                                                                                      ...   \n",
       "14036  [on, Friday, :]                                                                                                                                                                                                                                         \n",
       "14037  [Division, two]                                                                                                                                                                                                                                         \n",
       "14038  [Plymouth, 2, Preston, 1]                                                                                                                                                                                                                               \n",
       "14039  [Division, three]                                                                                                                                                                                                                                       \n",
       "14040  [Swansea, 1, Lincoln, 2]                                                                                                                                                                                                                                \n",
       "\n",
       "                                                                                                                       List2  \n",
       "0      [I-ORG, O, I-MISC, O, O, O, I-MISC, O, O]                                                                              \n",
       "1      [I-PER, I-PER]                                                                                                         \n",
       "2      [I-LOC, O]                                                                                                             \n",
       "3      [O, I-ORG, I-ORG, O, O, O, O, O, O, I-MISC, O, O, O, O, O, I-MISC, O, O, O, O, O, O, O, O, O, O, O, O, O, O]           \n",
       "4      [I-LOC, O, O, O, O, I-ORG, I-ORG, O, O, O, I-PER, I-PER, O, O, O, O, O, O, O, O, O, O, O, I-LOC, O, O, O, O, O, O, O]  \n",
       "...                                                                                                                      ...  \n",
       "14036  [O, O, O]                                                                                                              \n",
       "14037  [O, O]                                                                                                                 \n",
       "14038  [I-ORG, O, I-ORG, O]                                                                                                   \n",
       "14039  [O, O]                                                                                                                 \n",
       "14040  [I-ORG, O, I-ORG, O]                                                                                                   \n",
       "\n",
       "[14041 rows x 2 columns]"
      ]
     },
     "execution_count": 4,
     "metadata": {},
     "output_type": "execute_result"
    }
   ],
   "source": [
    "df"
   ]
  },
  {
   "cell_type": "code",
   "execution_count": 5,
   "metadata": {},
   "outputs": [],
   "source": [
    "# Test dataset for validation \n",
    "val_df = pd.DataFrame(data=test)\n",
    "val_df.columns = ['List1', 'List2']"
   ]
  },
  {
   "cell_type": "code",
   "execution_count": 6,
   "metadata": {},
   "outputs": [
    {
     "data": {
      "text/html": [
       "<div>\n",
       "<style scoped>\n",
       "    .dataframe tbody tr th:only-of-type {\n",
       "        vertical-align: middle;\n",
       "    }\n",
       "\n",
       "    .dataframe tbody tr th {\n",
       "        vertical-align: top;\n",
       "    }\n",
       "\n",
       "    .dataframe thead th {\n",
       "        text-align: right;\n",
       "    }\n",
       "</style>\n",
       "<table border=\"1\" class=\"dataframe\">\n",
       "  <thead>\n",
       "    <tr style=\"text-align: right;\">\n",
       "      <th></th>\n",
       "      <th>List1</th>\n",
       "      <th>List2</th>\n",
       "    </tr>\n",
       "  </thead>\n",
       "  <tbody>\n",
       "    <tr>\n",
       "      <th>0</th>\n",
       "      <td>[SOCCER, -, JAPAN, GET, LUCKY, WIN, ,, CHINA, IN, SURPRISE, DEFEAT, .]</td>\n",
       "      <td>[O, O, I-LOC, O, O, O, O, I-PER, O, O, O, O]</td>\n",
       "    </tr>\n",
       "    <tr>\n",
       "      <th>1</th>\n",
       "      <td>[Nadim, Ladki]</td>\n",
       "      <td>[I-PER, I-PER]</td>\n",
       "    </tr>\n",
       "    <tr>\n",
       "      <th>2</th>\n",
       "      <td>[AL-AIN, ,, United, Arab, Emirates, 1996-12-06]</td>\n",
       "      <td>[I-LOC, O, I-LOC, I-LOC, I-LOC, O]</td>\n",
       "    </tr>\n",
       "    <tr>\n",
       "      <th>3</th>\n",
       "      <td>[Japan, began, the, defence, of, their, Asian, Cup, title, with, a, lucky, 2-1, win, against, Syria, in, a, Group, C, championship, match, on, Friday, .]</td>\n",
       "      <td>[I-LOC, O, O, O, O, O, I-MISC, I-MISC, O, O, O, O, O, O, O, I-LOC, O, O, O, O, O, O, O, O, O]</td>\n",
       "    </tr>\n",
       "    <tr>\n",
       "      <th>4</th>\n",
       "      <td>[But, China, saw, their, luck, desert, them, in, the, second, match, of, the, group, ,, crashing, to, a, surprise, 2-0, defeat, to, newcomers, Uzbekistan, .]</td>\n",
       "      <td>[O, I-LOC, O, O, O, O, O, O, O, O, O, O, O, O, O, O, O, O, O, O, O, O, O, I-LOC, O]</td>\n",
       "    </tr>\n",
       "    <tr>\n",
       "      <th>...</th>\n",
       "      <td>...</td>\n",
       "      <td>...</td>\n",
       "    </tr>\n",
       "    <tr>\n",
       "      <th>3448</th>\n",
       "      <td>[That, is, why, this, is, so, emotional, a, night, for, me, ,, \", Charlton, said, .]</td>\n",
       "      <td>[O, O, O, O, O, O, O, O, O, O, O, O, O, I-PER, O, O]</td>\n",
       "    </tr>\n",
       "    <tr>\n",
       "      <th>3449</th>\n",
       "      <td>[\", It, was, the, joy, that, we, all, had, over, the, period, ,, that, I, shared, with, people, that, I, grew, to, love, ,, that, I, treasure, most, ,, \", he, added, .]</td>\n",
       "      <td>[O, O, O, O, O, O, O, O, O, O, O, O, O, O, O, O, O, O, O, O, O, O, O, O, O, O, O, O, O, O, O, O, O]</td>\n",
       "    </tr>\n",
       "    <tr>\n",
       "      <th>3450</th>\n",
       "      <td>[Charlton, managed, Ireland, for, 93, matches, ,, during, which, time, they, lost, only, 17, times, in, almost, 10, years, until, he, resigned, in, December, 1995, .]</td>\n",
       "      <td>[I-PER, O, I-LOC, O, O, O, O, O, O, O, O, O, O, O, O, O, O, O, O, O, O, O, O, O, O, O]</td>\n",
       "    </tr>\n",
       "    <tr>\n",
       "      <th>3451</th>\n",
       "      <td>[He, guided, Ireland, to, two, successive, World, Cup, finals, tournaments, and, to, the, 1988, European, championship, finals, in, Germany, ,, after, the, Irish, beat, a, well-fancied, England, team, 1-0, in, their, group, qualifier, .]</td>\n",
       "      <td>[O, O, I-LOC, O, O, O, I-MISC, I-MISC, O, O, O, O, O, O, I-MISC, O, O, O, I-LOC, O, O, O, I-MISC, O, O, O, I-LOC, O, O, O, O, O, O, O]</td>\n",
       "    </tr>\n",
       "    <tr>\n",
       "      <th>3452</th>\n",
       "      <td>[The, lanky, former, Leeds, United, defender, did, not, make, his, England, debut, until, the, age, of, 30, but, eventually, won, 35, caps, and, was, a, key, member, of, the, 1966, World, Cup, winning, team, with, his, younger, brother, ,, Bobby, .]</td>\n",
       "      <td>[O, O, O, I-ORG, I-ORG, O, O, O, O, O, I-LOC, O, O, O, O, O, O, O, O, O, O, O, O, O, O, O, O, O, O, I-MISC, I-MISC, I-MISC, O, O, O, O, O, O, O, I-PER, O]</td>\n",
       "    </tr>\n",
       "  </tbody>\n",
       "</table>\n",
       "<p>3453 rows × 2 columns</p>\n",
       "</div>"
      ],
      "text/plain": [
       "                                                                                                                                                                                                                                                          List1  \\\n",
       "0     [SOCCER, -, JAPAN, GET, LUCKY, WIN, ,, CHINA, IN, SURPRISE, DEFEAT, .]                                                                                                                                                                                      \n",
       "1     [Nadim, Ladki]                                                                                                                                                                                                                                              \n",
       "2     [AL-AIN, ,, United, Arab, Emirates, 1996-12-06]                                                                                                                                                                                                             \n",
       "3     [Japan, began, the, defence, of, their, Asian, Cup, title, with, a, lucky, 2-1, win, against, Syria, in, a, Group, C, championship, match, on, Friday, .]                                                                                                   \n",
       "4     [But, China, saw, their, luck, desert, them, in, the, second, match, of, the, group, ,, crashing, to, a, surprise, 2-0, defeat, to, newcomers, Uzbekistan, .]                                                                                               \n",
       "...                                                                                                                                                             ...                                                                                               \n",
       "3448  [That, is, why, this, is, so, emotional, a, night, for, me, ,, \", Charlton, said, .]                                                                                                                                                                        \n",
       "3449  [\", It, was, the, joy, that, we, all, had, over, the, period, ,, that, I, shared, with, people, that, I, grew, to, love, ,, that, I, treasure, most, ,, \", he, added, .]                                                                                    \n",
       "3450  [Charlton, managed, Ireland, for, 93, matches, ,, during, which, time, they, lost, only, 17, times, in, almost, 10, years, until, he, resigned, in, December, 1995, .]                                                                                      \n",
       "3451  [He, guided, Ireland, to, two, successive, World, Cup, finals, tournaments, and, to, the, 1988, European, championship, finals, in, Germany, ,, after, the, Irish, beat, a, well-fancied, England, team, 1-0, in, their, group, qualifier, .]               \n",
       "3452  [The, lanky, former, Leeds, United, defender, did, not, make, his, England, debut, until, the, age, of, 30, but, eventually, won, 35, caps, and, was, a, key, member, of, the, 1966, World, Cup, winning, team, with, his, younger, brother, ,, Bobby, .]   \n",
       "\n",
       "                                                                                                                                                           List2  \n",
       "0     [O, O, I-LOC, O, O, O, O, I-PER, O, O, O, O]                                                                                                                \n",
       "1     [I-PER, I-PER]                                                                                                                                              \n",
       "2     [I-LOC, O, I-LOC, I-LOC, I-LOC, O]                                                                                                                          \n",
       "3     [I-LOC, O, O, O, O, O, I-MISC, I-MISC, O, O, O, O, O, O, O, I-LOC, O, O, O, O, O, O, O, O, O]                                                               \n",
       "4     [O, I-LOC, O, O, O, O, O, O, O, O, O, O, O, O, O, O, O, O, O, O, O, O, O, I-LOC, O]                                                                         \n",
       "...                                                                                   ...                                                                         \n",
       "3448  [O, O, O, O, O, O, O, O, O, O, O, O, O, I-PER, O, O]                                                                                                        \n",
       "3449  [O, O, O, O, O, O, O, O, O, O, O, O, O, O, O, O, O, O, O, O, O, O, O, O, O, O, O, O, O, O, O, O, O]                                                         \n",
       "3450  [I-PER, O, I-LOC, O, O, O, O, O, O, O, O, O, O, O, O, O, O, O, O, O, O, O, O, O, O, O]                                                                      \n",
       "3451  [O, O, I-LOC, O, O, O, I-MISC, I-MISC, O, O, O, O, O, O, I-MISC, O, O, O, I-LOC, O, O, O, I-MISC, O, O, O, I-LOC, O, O, O, O, O, O, O]                      \n",
       "3452  [O, O, O, I-ORG, I-ORG, O, O, O, O, O, I-LOC, O, O, O, O, O, O, O, O, O, O, O, O, O, O, O, O, O, O, I-MISC, I-MISC, I-MISC, O, O, O, O, O, O, O, I-PER, O]  \n",
       "\n",
       "[3453 rows x 2 columns]"
      ]
     },
     "execution_count": 6,
     "metadata": {},
     "output_type": "execute_result"
    }
   ],
   "source": [
    "val_df"
   ]
  },
  {
   "cell_type": "code",
   "execution_count": 7,
   "metadata": {},
   "outputs": [],
   "source": [
    "# List of Sentences\n",
    "sentences=df[\"List1\"].values.tolist() #converting whole dataframe to list to pass it from tokenizer"
   ]
  },
  {
   "cell_type": "code",
   "execution_count": 8,
   "metadata": {},
   "outputs": [
    {
     "data": {
      "text/plain": [
       "['EU', 'rejects', 'German', 'call', 'to', 'boycott', 'British', 'lamb', '.']"
      ]
     },
     "execution_count": 8,
     "metadata": {},
     "output_type": "execute_result"
    }
   ],
   "source": [
    "sentences[0]"
   ]
  },
  {
   "cell_type": "markdown",
   "metadata": {},
   "source": [
    "## Data set Understanding"
   ]
  },
  {
   "cell_type": "code",
   "execution_count": 9,
   "metadata": {},
   "outputs": [],
   "source": [
    "df1 = pd.DataFrame()  \n",
    "# this function is used to build new dataframe which is storing each word with respect to its ner tag and sentence number\n",
    "mm=0\n",
    "for j in range(0,14041):\n",
    "#     print(j)\n",
    "    len1 = len(df['List1'][j])\n",
    "    len2= len(df['List2'][j])\n",
    "    text = df['List1'][j]\n",
    "    text1= df['List2'][j]\n",
    "    if len1 == len2:\n",
    "        for m,n in zip(text,text1):\n",
    "            df1.loc[mm,'Word']=m\n",
    "            df1.loc[mm,'Tag']=n\n",
    "            mm=mm+1\n",
    "   "
   ]
  },
  {
   "cell_type": "code",
   "execution_count": 10,
   "metadata": {},
   "outputs": [
    {
     "data": {
      "text/plain": [
       "O         169578\n",
       "I-PER     11128 \n",
       "I-ORG     10001 \n",
       "I-LOC     8286  \n",
       "I-MISC    4556  \n",
       "B-MISC    37    \n",
       "B-ORG     24    \n",
       "B-LOC     11    \n",
       "Name: Tag, dtype: int64"
      ]
     },
     "execution_count": 10,
     "metadata": {},
     "output_type": "execute_result"
    }
   ],
   "source": [
    "df1['Tag'].value_counts()"
   ]
  },
  {
   "cell_type": "markdown",
   "metadata": {},
   "source": [
    "#### - B-XXX values are very less."
   ]
  },
  {
   "cell_type": "code",
   "execution_count": 11,
   "metadata": {},
   "outputs": [
    {
     "data": {
      "text/plain": [
       "<matplotlib.axes._subplots.AxesSubplot at 0x1a8880a5c88>"
      ]
     },
     "execution_count": 11,
     "metadata": {},
     "output_type": "execute_result"
    },
    {
     "data": {
      "image/png": "[encoded data removed]",
      "text/plain": [
       "<Figure size 432x288 with 1 Axes>"
      ]
     },
     "metadata": {},
     "output_type": "display_data"
    }
   ],
   "source": [
    "bins=df1['Tag'].value_counts()\n",
    "total=df1['Tag'].count()\n",
    "bins=bins.apply(lambda x: float(x)/total)\n",
    "df1['Tag'].value_counts().plot(kind='bar')"
   ]
  },
  {
   "cell_type": "code",
   "execution_count": 12,
   "metadata": {},
   "outputs": [
    {
     "data": {
      "text/plain": [
       "<matplotlib.axes._subplots.AxesSubplot at 0x1a888a6d308>"
      ]
     },
     "execution_count": 12,
     "metadata": {},
     "output_type": "execute_result"
    },
    {
     "data": {
      "image/png": "[encoded data removed]",
      "text/plain": [
       "<Figure size 432x288 with 1 Axes>"
      ]
     },
     "metadata": {},
     "output_type": "display_data"
    }
   ],
   "source": [
    "bins=df1['Tag'].value_counts()\n",
    "total=df1['Tag'].count()\n",
    "bins=bins.apply(lambda x: float(x)/total)\n",
    "df1['Tag'].value_counts().drop(\"O\", axis=0).plot(kind='bar')"
   ]
  },
  {
   "cell_type": "markdown",
   "metadata": {},
   "source": [
    "## Maximum sentence length"
   ]
  },
  {
   "cell_type": "code",
   "execution_count": 13,
   "metadata": {},
   "outputs": [
    {
     "name": "stdout",
     "output_type": "stream",
     "text": [
      "Maximum sentence length: 113\n"
     ]
    },
    {
     "data": {
      "image/png": "[encoded data removed]",
      "text/plain": [
       "<Figure size 432x288 with 1 Axes>"
      ]
     },
     "metadata": {},
     "output_type": "display_data"
    }
   ],
   "source": [
    "import seaborn as sns\n",
    "\n",
    "length=[len(s) for s in sentences]\n",
    "sns.distplot(length)\n",
    "print(f'Maximum sentence length: {max(length)}')\n"
   ]
  },
  {
   "cell_type": "code",
   "execution_count": 14,
   "metadata": {},
   "outputs": [],
   "source": [
    "# List of tags\n",
    "tags=df[\"List2\"].values.tolist()"
   ]
  },
  {
   "cell_type": "code",
   "execution_count": 15,
   "metadata": {},
   "outputs": [],
   "source": [
    "# List of sentences and tags for validation ( Tesz Dataset)\n",
    "\n",
    "val_sentences=val_df[\"List1\"].values.tolist()\n",
    "val_tags=val_df[\"List2\"].values.tolist()"
   ]
  },
  {
   "cell_type": "markdown",
   "metadata": {},
   "source": [
    "### Tokenizer Function\n",
    "\n",
    "This class allows to vectorize a text corpus, by turning each text into either a sequence of integers\n",
    "(each integer being the index of a token in a dictionary) or into a vector where the coefficient for \n",
    " each token could be binary, based on word count, based on tf-idf\n",
    "\n",
    "#### texts_to_sequences\n",
    "Transforms each text in texts to a sequence of integers.\n",
    "So it basically takes each word in the text and replaces it with its corresponding integer value from the word_index\n",
    "\n",
    "#### pad_sequences \n",
    "\n",
    "It is used to ensure that all sequences in a list have the same length. By default this is done by padding 0\n",
    "in the beginning of each sequence until each sequence has the same length as the longest sequence"
   ]
  },
  {
   "cell_type": "code",
   "execution_count": 16,
   "metadata": {},
   "outputs": [],
   "source": [
    "\n",
    "\n",
    "word_tokenizer = Tokenizer()\n",
    "word_tokenizer.fit_on_texts(sentences)  \n",
    "# number of common words: here we have 21010 common words\n",
    "common_words = len(word_tokenizer.word_index) + 1\n",
    "embedded_sentences = word_tokenizer.texts_to_sequences(sentences)\n",
    "#finds maximum length in order to do padding so all sentences will be equal in length\n",
    "max_len=max([len(seq) for seq in embedded_sentences]) \n",
    "X=np.array(pad_sequences(embedded_sentences,padding='post'))\n",
    "\n",
    "\n",
    "#same as above methods (NER tags preparation)\n",
    "label_tokenizer = Tokenizer()\n",
    "label_tokenizer.fit_on_texts(tags)\n",
    "embedded_labels = label_tokenizer.texts_to_sequences(tags)\n",
    "y=np.array(pad_sequences(embedded_labels,padding='post'))\n",
    "max_len_labels=len(label_tokenizer.word_index)+1\n",
    "\n",
    "\n",
    "\n",
    "    "
   ]
  },
  {
   "cell_type": "code",
   "execution_count": 17,
   "metadata": {},
   "outputs": [],
   "source": [
    "\n",
    "# to_categorical is used to convert array of labeled data(from 0 to nb_classes-1) to one-hot vector.\n",
    "y = [to_categorical(i, num_classes=max_len_labels) for i in y]\n",
    "X_tr=X\n",
    "y_tr=y"
   ]
  },
  {
   "cell_type": "code",
   "execution_count": 18,
   "metadata": {},
   "outputs": [
    {
     "data": {
      "text/plain": [
       "array([  988, 10950,   204,   628,     6,  3938,   215,  5773,     2,\n",
       "           0,     0,     0,     0,     0,     0,     0,     0,     0,\n",
       "           0,     0,     0,     0,     0,     0,     0,     0,     0,\n",
       "           0,     0,     0,     0,     0,     0,     0,     0,     0,\n",
       "           0,     0,     0,     0,     0,     0,     0,     0,     0,\n",
       "           0,     0,     0,     0,     0,     0,     0,     0,     0,\n",
       "           0,     0,     0,     0,     0,     0,     0,     0,     0,\n",
       "           0,     0,     0,     0,     0,     0,     0,     0,     0,\n",
       "           0,     0,     0,     0,     0,     0,     0,     0,     0,\n",
       "           0,     0,     0,     0,     0,     0,     0,     0,     0,\n",
       "           0,     0,     0,     0,     0,     0,     0,     0,     0,\n",
       "           0,     0,     0,     0,     0,     0,     0,     0,     0,\n",
       "           0,     0,     0,     0,     0])"
      ]
     },
     "execution_count": 18,
     "metadata": {},
     "output_type": "execute_result"
    }
   ],
   "source": [
    "X_tr[0]"
   ]
  },
  {
   "cell_type": "code",
   "execution_count": 19,
   "metadata": {},
   "outputs": [
    {
     "name": "stdout",
     "output_type": "stream",
     "text": [
      "[[0. 0. 0. ... 0. 0. 0.]\n",
      " [0. 1. 0. ... 0. 0. 0.]\n",
      " [0. 0. 0. ... 0. 0. 0.]\n",
      " ...\n",
      " [1. 0. 0. ... 0. 0. 0.]\n",
      " [1. 0. 0. ... 0. 0. 0.]\n",
      " [1. 0. 0. ... 0. 0. 0.]]\n",
      "\n",
      "........Open the list........\n",
      "\n",
      "[0. 0. 0. 1. 0. 0. 0. 0. 0.]\n",
      "[0. 1. 0. 0. 0. 0. 0. 0. 0.]\n",
      "[0. 0. 0. 0. 0. 1. 0. 0. 0.]\n",
      "[0. 1. 0. 0. 0. 0. 0. 0. 0.]\n",
      "[0. 1. 0. 0. 0. 0. 0. 0. 0.]\n",
      "[0. 1. 0. 0. 0. 0. 0. 0. 0.]\n",
      "[0. 0. 0. 0. 0. 1. 0. 0. 0.]\n",
      "[0. 1. 0. 0. 0. 0. 0. 0. 0.]\n",
      "[0. 1. 0. 0. 0. 0. 0. 0. 0.]\n"
     ]
    }
   ],
   "source": [
    "print(y_tr[0])\n",
    "print('\\n........Open the list........\\n')\n",
    "for i in range(0,9):\n",
    "    print(y_tr[0][i])"
   ]
  },
  {
   "cell_type": "markdown",
   "metadata": {},
   "source": [
    "### Functions to find recall, precision and F1 measure\n",
    "\n",
    "#### recall\n",
    "In addition to true positives it also takes into account the positive tags that were missed,\n",
    "and therefore mistakenly replaced with negative ones (i.e., false negatives)\n",
    "\n",
    "#### precision\n",
    " takes into account only the number of correctly assigned labels, i.e., the true positives\n",
    "\n",
    "#### f-score\n",
    "It is a combination of precision and recall\n",
    "\n",
    "#### accuracy\n",
    " indicates the proportion of true results (both true positives and true negatives) in the population,\n",
    " which also includes false positives and false negatives"
   ]
  },
  {
   "cell_type": "code",
   "execution_count": 20,
   "metadata": {},
   "outputs": [],
   "source": [
    "\n",
    "from keras import backend as K\n",
    "\n",
    "\n",
    "def recall_m(y_true, y_pred):\n",
    "        true_positives = K.sum(K.round(K.clip(y_true * y_pred, 0, 1)))\n",
    "        possible_positives = K.sum(K.round(K.clip(y_true, 0, 1)))\n",
    "        recall = true_positives / (possible_positives + K.epsilon()) #we use epsilon, to handle 'divided by zero' condition.\n",
    "        return recall\n",
    "\n",
    "def precision_m(y_true, y_pred):\n",
    "        true_positives = K.sum(K.round(K.clip(y_true * y_pred, 0, 1)))\n",
    "        predicted_positives = K.sum(K.round(K.clip(y_pred, 0, 1)))\n",
    "        precision = true_positives / (predicted_positives + K.epsilon())\n",
    "        return precision\n",
    "\n",
    "def f1_m(y_true, y_pred):\n",
    "    precision = precision_m(y_true, y_pred)\n",
    "    recall = recall_m(y_true, y_pred)\n",
    "    return 2*((precision*recall)/(precision+recall+K.epsilon()))\n"
   ]
  },
  {
   "cell_type": "markdown",
   "metadata": {},
   "source": [
    "# Model Setup"
   ]
  },
  {
   "cell_type": "markdown",
   "metadata": {},
   "source": [
    "###  Bi-LSTM network with an embedding layer\n",
    "\n",
    "inputs: The input(s) of the model: a keras.Input object or list of keras.Input objects. <br/>\n",
    "\n",
    "output_dim: Integer. Dimension of the dense embedding.<br />\n",
    "\n",
    "input_length: Length of input sequences, when it is constant. This argument is required if you are going to connect Flatten then Dense layers upstream (without it, the shape of the dense outputs cannot be computed). <br />\n",
    "\n",
    "The first hidden layer will have 100 memory units and the output layer will be a fully connected layer that \n",
    "outputs one value per timestep.\n",
    "\n",
    "TimeDistributed wrapper layer is used around the output layer so that one value per timestep can be predicted given\n",
    "the full sequence provided as input. This requires that the LSTM hidden layer returns a sequence of values (one per timestep)\n",
    "rather than a single value for the whole input sequence.<br />\n",
    "Softmax function: “returns a probability distribution over the target classes in a multiclass classification problem”  <br />\n",
    "\n",
    "This is a multi-class classification problem, the categorical log loss (categorical_crossentropy in Keras) is used.\n",
    "The efficient ADAM optimization algorithm isused to find the weights and the accuracy metric is calculated and reported\n",
    "each epoch."
   ]
  },
  {
   "cell_type": "code",
   "execution_count": 21,
   "metadata": {},
   "outputs": [],
   "source": [
    "\n",
    "input = Input(shape=(max_len,))\n",
    "model = Embedding(input_dim=common_words, output_dim=max_len, input_length=max_len)(input)  # 113-dim embedding\n",
    "model = Bidirectional(LSTM(units=100, return_sequences=True, dropout=0.5, recurrent_dropout=0.5))(model)  # variational biLSTM\n",
    "out = TimeDistributed(Dense(max_len_labels, activation=\"softmax\"))(model)  # softmax output layer\n",
    "model = Model(input, out)\n",
    "model.compile(optimizer=\"adam\", loss=\"categorical_crossentropy\", metrics=[\"accuracy\",f1_m,precision_m, recall_m])"
   ]
  },
  {
   "cell_type": "code",
   "execution_count": 22,
   "metadata": {},
   "outputs": [
    {
     "data": {
      "image/svg+xml": [
       "<svg height=\"274pt\" viewBox=\"0.00 0.00 492.00 304.00\" width=\"444pt\" xmlns=\"http://www.w3.org/2000/svg\" xmlns:xlink=\"http://www.w3.org/1999/xlink\">\n",
       "<g class=\"graph\" id=\"graph0\" transform=\"scale(0.902778 0.902778) rotate(0) translate(4 300)\">\n",
       "<title>G</title>\n",
       "<polygon fill=\"white\" points=\"-4,4 -4,-300 488,-300 488,4 -4,4\" stroke=\"none\"/>\n",
       "<!-- 1823385111688 -->\n",
       "<g class=\"node\" id=\"node1\"><title>1823385111688</title>\n",
       "<polygon fill=\"none\" points=\"109.5,-249.5 109.5,-295.5 374.5,-295.5 374.5,-249.5 109.5,-249.5\" stroke=\"black\"/>\n",
       "<text font-family=\"Times New Roman,serif\" font-size=\"14.00\" text-anchor=\"middle\" x=\"172.5\" y=\"-268.8\">input_1: InputLayer</text>\n",
       "<polyline fill=\"none\" points=\"235.5,-249.5 235.5,-295.5 \" stroke=\"black\"/>\n",
       "<text font-family=\"Times New Roman,serif\" font-size=\"14.00\" text-anchor=\"middle\" x=\"263.5\" y=\"-280.3\">input:</text>\n",
       "<polyline fill=\"none\" points=\"235.5,-272.5 291.5,-272.5 \" stroke=\"black\"/>\n",
       "<text font-family=\"Times New Roman,serif\" font-size=\"14.00\" text-anchor=\"middle\" x=\"263.5\" y=\"-257.3\">output:</text>\n",
       "<polyline fill=\"none\" points=\"291.5,-249.5 291.5,-295.5 \" stroke=\"black\"/>\n",
       "<text font-family=\"Times New Roman,serif\" font-size=\"14.00\" text-anchor=\"middle\" x=\"333\" y=\"-280.3\">(None, 113)</text>\n",
       "<polyline fill=\"none\" points=\"291.5,-272.5 374.5,-272.5 \" stroke=\"black\"/>\n",
       "<text font-family=\"Times New Roman,serif\" font-size=\"14.00\" text-anchor=\"middle\" x=\"333\" y=\"-257.3\">(None, 113)</text>\n",
       "</g>\n",
       "<!-- 1823385111624 -->\n",
       "<g class=\"node\" id=\"node2\"><title>1823385111624</title>\n",
       "<polygon fill=\"none\" points=\"77,-166.5 77,-212.5 407,-212.5 407,-166.5 77,-166.5\" stroke=\"black\"/>\n",
       "<text font-family=\"Times New Roman,serif\" font-size=\"14.00\" text-anchor=\"middle\" x=\"158.5\" y=\"-185.8\">embedding_1: Embedding</text>\n",
       "<polyline fill=\"none\" points=\"240,-166.5 240,-212.5 \" stroke=\"black\"/>\n",
       "<text font-family=\"Times New Roman,serif\" font-size=\"14.00\" text-anchor=\"middle\" x=\"268\" y=\"-197.3\">input:</text>\n",
       "<polyline fill=\"none\" points=\"240,-189.5 296,-189.5 \" stroke=\"black\"/>\n",
       "<text font-family=\"Times New Roman,serif\" font-size=\"14.00\" text-anchor=\"middle\" x=\"268\" y=\"-174.3\">output:</text>\n",
       "<polyline fill=\"none\" points=\"296,-166.5 296,-212.5 \" stroke=\"black\"/>\n",
       "<text font-family=\"Times New Roman,serif\" font-size=\"14.00\" text-anchor=\"middle\" x=\"351.5\" y=\"-197.3\">(None, 113)</text>\n",
       "<polyline fill=\"none\" points=\"296,-189.5 407,-189.5 \" stroke=\"black\"/>\n",
       "<text font-family=\"Times New Roman,serif\" font-size=\"14.00\" text-anchor=\"middle\" x=\"351.5\" y=\"-174.3\">(None, 113, 113)</text>\n",
       "</g>\n",
       "<!-- 1823385111688&#45;&gt;1823385111624 -->\n",
       "<g class=\"edge\" id=\"edge1\"><title>1823385111688-&gt;1823385111624</title>\n",
       "<path d=\"M242,-249.366C242,-241.152 242,-231.658 242,-222.725\" fill=\"none\" stroke=\"black\"/>\n",
       "<polygon fill=\"black\" points=\"245.5,-222.607 242,-212.607 238.5,-222.607 245.5,-222.607\" stroke=\"black\"/>\n",
       "</g>\n",
       "<!-- 1823385058952 -->\n",
       "<g class=\"node\" id=\"node3\"><title>1823385058952</title>\n",
       "<polygon fill=\"none\" points=\"24,-83.5 24,-129.5 460,-129.5 460,-83.5 24,-83.5\" stroke=\"black\"/>\n",
       "<text font-family=\"Times New Roman,serif\" font-size=\"14.00\" text-anchor=\"middle\" x=\"158.5\" y=\"-102.8\">bidirectional_1(lstm_1): Bidirectional(LSTM)</text>\n",
       "<polyline fill=\"none\" points=\"293,-83.5 293,-129.5 \" stroke=\"black\"/>\n",
       "<text font-family=\"Times New Roman,serif\" font-size=\"14.00\" text-anchor=\"middle\" x=\"321\" y=\"-114.3\">input:</text>\n",
       "<polyline fill=\"none\" points=\"293,-106.5 349,-106.5 \" stroke=\"black\"/>\n",
       "<text font-family=\"Times New Roman,serif\" font-size=\"14.00\" text-anchor=\"middle\" x=\"321\" y=\"-91.3\">output:</text>\n",
       "<polyline fill=\"none\" points=\"349,-83.5 349,-129.5 \" stroke=\"black\"/>\n",
       "<text font-family=\"Times New Roman,serif\" font-size=\"14.00\" text-anchor=\"middle\" x=\"404.5\" y=\"-114.3\">(None, 113, 113)</text>\n",
       "<polyline fill=\"none\" points=\"349,-106.5 460,-106.5 \" stroke=\"black\"/>\n",
       "<text font-family=\"Times New Roman,serif\" font-size=\"14.00\" text-anchor=\"middle\" x=\"404.5\" y=\"-91.3\">(None, 113, 200)</text>\n",
       "</g>\n",
       "<!-- 1823385111624&#45;&gt;1823385058952 -->\n",
       "<g class=\"edge\" id=\"edge2\"><title>1823385111624-&gt;1823385058952</title>\n",
       "<path d=\"M242,-166.366C242,-158.152 242,-148.658 242,-139.725\" fill=\"none\" stroke=\"black\"/>\n",
       "<polygon fill=\"black\" points=\"245.5,-139.607 242,-129.607 238.5,-139.607 245.5,-139.607\" stroke=\"black\"/>\n",
       "</g>\n",
       "<!-- 1823387607432 -->\n",
       "<g class=\"node\" id=\"node4\"><title>1823387607432</title>\n",
       "<polygon fill=\"none\" points=\"0,-0.5 0,-46.5 484,-46.5 484,-0.5 0,-0.5\" stroke=\"black\"/>\n",
       "<text font-family=\"Times New Roman,serif\" font-size=\"14.00\" text-anchor=\"middle\" x=\"158.5\" y=\"-19.8\">time_distributed_1(dense_1): TimeDistributed(Dense)</text>\n",
       "<polyline fill=\"none\" points=\"317,-0.5 317,-46.5 \" stroke=\"black\"/>\n",
       "<text font-family=\"Times New Roman,serif\" font-size=\"14.00\" text-anchor=\"middle\" x=\"345\" y=\"-31.3\">input:</text>\n",
       "<polyline fill=\"none\" points=\"317,-23.5 373,-23.5 \" stroke=\"black\"/>\n",
       "<text font-family=\"Times New Roman,serif\" font-size=\"14.00\" text-anchor=\"middle\" x=\"345\" y=\"-8.3\">output:</text>\n",
       "<polyline fill=\"none\" points=\"373,-0.5 373,-46.5 \" stroke=\"black\"/>\n",
       "<text font-family=\"Times New Roman,serif\" font-size=\"14.00\" text-anchor=\"middle\" x=\"428.5\" y=\"-31.3\">(None, 113, 200)</text>\n",
       "<polyline fill=\"none\" points=\"373,-23.5 484,-23.5 \" stroke=\"black\"/>\n",
       "<text font-family=\"Times New Roman,serif\" font-size=\"14.00\" text-anchor=\"middle\" x=\"428.5\" y=\"-8.3\">(None, 113, 9)</text>\n",
       "</g>\n",
       "<!-- 1823385058952&#45;&gt;1823387607432 -->\n",
       "<g class=\"edge\" id=\"edge3\"><title>1823385058952-&gt;1823387607432</title>\n",
       "<path d=\"M242,-83.3664C242,-75.1516 242,-65.6579 242,-56.7252\" fill=\"none\" stroke=\"black\"/>\n",
       "<polygon fill=\"black\" points=\"245.5,-56.6068 242,-46.6068 238.5,-56.6069 245.5,-56.6068\" stroke=\"black\"/>\n",
       "</g>\n",
       "</g>\n",
       "</svg>"
      ],
      "text/plain": [
       "<IPython.core.display.SVG object>"
      ]
     },
     "execution_count": 22,
     "metadata": {},
     "output_type": "execute_result"
    }
   ],
   "source": [
    "from IPython.display import SVG\n",
    "from keras.utils.vis_utils import model_to_dot\n",
    "def plot_keras_model(model, show_shapes=True,  show_layer_names=True):\n",
    "    return SVG(model_to_dot(model, show_shapes=show_shapes, show_layer_names=show_layer_names, dpi=65).create(prog='dot',format='svg'))\n",
    "plot_keras_model(model, show_shapes=True, show_layer_names=True)"
   ]
  },
  {
   "cell_type": "code",
   "execution_count": 23,
   "metadata": {},
   "outputs": [
    {
     "name": "stdout",
     "output_type": "stream",
     "text": [
      "Model: \"model_1\"\n",
      "_________________________________________________________________\n",
      "Layer (type)                 Output Shape              Param #   \n",
      "=================================================================\n",
      "input_1 (InputLayer)         (None, 113)               0         \n",
      "_________________________________________________________________\n",
      "embedding_1 (Embedding)      (None, 113, 113)          2374130   \n",
      "_________________________________________________________________\n",
      "bidirectional_1 (Bidirection (None, 113, 200)          171200    \n",
      "_________________________________________________________________\n",
      "time_distributed_1 (TimeDist (None, 113, 9)            1809      \n",
      "=================================================================\n",
      "Total params: 2,547,139\n",
      "Trainable params: 2,547,139\n",
      "Non-trainable params: 0\n",
      "_________________________________________________________________\n"
     ]
    }
   ],
   "source": [
    "model.summary()"
   ]
  },
  {
   "cell_type": "markdown",
   "metadata": {},
   "source": [
    "The LSTM will be trained for 5 epochs.\n",
    "One epoch is when an entire dataset is passed both forward and backward through the neural network only once\n",
    "The validation split variable in Keras is a value between [0..1]. Keras proportionally split your training set \n",
    "by the value of the variable.The first set is used for training and the 2nd set for validation after each epoch."
   ]
  },
  {
   "cell_type": "code",
   "execution_count": 24,
   "metadata": {
    "scrolled": true
   },
   "outputs": [
    {
     "name": "stderr",
     "output_type": "stream",
     "text": [
      "C:\\Users\\gujabeen\\Anaconda3\\lib\\site-packages\\tensorflow\\python\\framework\\indexed_slices.py:434: UserWarning: Converting sparse IndexedSlices to a dense Tensor of unknown shape. This may consume a large amount of memory.\n",
      "  \"Converting sparse IndexedSlices to a dense Tensor of unknown shape. \"\n"
     ]
    },
    {
     "name": "stdout",
     "output_type": "stream",
     "text": [
      "Train on 12636 samples, validate on 1405 samples\n",
      "Epoch 1/10\n",
      "12636/12636 [==============================] - 88s 7ms/step - loss: 0.1380 - accuracy: 0.9680 - f1_m: 0.9524 - precision_m: 0.9598 - recall_m: 0.9476 - val_loss: 0.0527 - val_accuracy: 0.9827 - val_f1_m: 0.9857 - val_precision_m: 0.9930 - val_recall_m: 0.9784\n",
      "Epoch 2/10\n",
      "12636/12636 [==============================] - 99s 8ms/step - loss: 0.0367 - accuracy: 0.9880 - f1_m: 0.9887 - precision_m: 0.9969 - recall_m: 0.9807 - val_loss: 0.0362 - val_accuracy: 0.9893 - val_f1_m: 0.9897 - val_precision_m: 0.9946 - val_recall_m: 0.9848\n",
      "Epoch 3/10\n",
      "12636/12636 [==============================] - 113s 9ms/step - loss: 0.0187 - accuracy: 0.9947 - f1_m: 0.9947 - precision_m: 0.9972 - recall_m: 0.9923 - val_loss: 0.0308 - val_accuracy: 0.9909 - val_f1_m: 0.9912 - val_precision_m: 0.9936 - val_recall_m: 0.9888\n",
      "Epoch 4/10\n",
      "12636/12636 [==============================] - 98s 8ms/step - loss: 0.0115 - accuracy: 0.9967 - f1_m: 0.9967 - precision_m: 0.9974 - recall_m: 0.9960 - val_loss: 0.0294 - val_accuracy: 0.9920 - val_f1_m: 0.9921 - val_precision_m: 0.9933 - val_recall_m: 0.9909\n",
      "Epoch 5/10\n",
      "12636/12636 [==============================] - 104s 8ms/step - loss: 0.0085 - accuracy: 0.9975 - f1_m: 0.9975 - precision_m: 0.9978 - recall_m: 0.9971 - val_loss: 0.0289 - val_accuracy: 0.9923 - val_f1_m: 0.9924 - val_precision_m: 0.9930 - val_recall_m: 0.9917\n",
      "Epoch 6/10\n",
      "12636/12636 [==============================] - 85s 7ms/step - loss: 0.0068 - accuracy: 0.9979 - f1_m: 0.9979 - precision_m: 0.9981 - recall_m: 0.9977 - val_loss: 0.0287 - val_accuracy: 0.9924 - val_f1_m: 0.9924 - val_precision_m: 0.9930 - val_recall_m: 0.9918\n",
      "Epoch 7/10\n",
      "12636/12636 [==============================] - 91s 7ms/step - loss: 0.0056 - accuracy: 0.9982 - f1_m: 0.9983 - precision_m: 0.9984 - recall_m: 0.9981 - val_loss: 0.0306 - val_accuracy: 0.9924 - val_f1_m: 0.9925 - val_precision_m: 0.9930 - val_recall_m: 0.9920\n",
      "Epoch 8/10\n",
      "12636/12636 [==============================] - 90s 7ms/step - loss: 0.0046 - accuracy: 0.9985 - f1_m: 0.9985 - precision_m: 0.9987 - recall_m: 0.9984 - val_loss: 0.0329 - val_accuracy: 0.9925 - val_f1_m: 0.9926 - val_precision_m: 0.9929 - val_recall_m: 0.9923\n",
      "Epoch 9/10\n",
      "12636/12636 [==============================] - 91s 7ms/step - loss: 0.0040 - accuracy: 0.9987 - f1_m: 0.9988 - precision_m: 0.9989 - recall_m: 0.9987 - val_loss: 0.0343 - val_accuracy: 0.9926 - val_f1_m: 0.9926 - val_precision_m: 0.9928 - val_recall_m: 0.9924\n",
      "Epoch 10/10\n",
      "12636/12636 [==============================] - 87s 7ms/step - loss: 0.0034 - accuracy: 0.9989 - f1_m: 0.9989 - precision_m: 0.9990 - recall_m: 0.9988 - val_loss: 0.0345 - val_accuracy: 0.9926 - val_f1_m: 0.9927 - val_precision_m: 0.9930 - val_recall_m: 0.9924\n"
     ]
    }
   ],
   "source": [
    "\n",
    "history = model.fit(X_tr, np.array(y_tr), batch_size=32, epochs=10, validation_split=0.1, verbose=1)\n"
   ]
  },
  {
   "cell_type": "code",
   "execution_count": 25,
   "metadata": {},
   "outputs": [],
   "source": [
    "hist = pd.DataFrame(history.history) # Saving all data from the model in dataframe to interpret results"
   ]
  },
  {
   "cell_type": "markdown",
   "metadata": {},
   "source": [
    "# Visualization of results"
   ]
  },
  {
   "cell_type": "code",
   "execution_count": 26,
   "metadata": {},
   "outputs": [],
   "source": [
    "def visualize_results(value, vali_value, label):\n",
    "    plt.plot(value)\n",
    "    plt.plot(vali_value)\n",
    "    plt.xlabel('Epoch')\n",
    "    plt.ylabel(label)\n",
    "    plt.title(label)\n",
    "    plt.show()"
   ]
  },
  {
   "cell_type": "code",
   "execution_count": 27,
   "metadata": {},
   "outputs": [
    {
     "data": {
      "image/png": "[encoded data removed]",
      "text/plain": [
       "<Figure size 432x288 with 1 Axes>"
      ]
     },
     "metadata": {},
     "output_type": "display_data"
    },
    {
     "data": {
      "image/png": "[encoded data removed]",
      "text/plain": [
       "<Figure size 432x288 with 1 Axes>"
      ]
     },
     "metadata": {},
     "output_type": "display_data"
    },
    {
     "data": {
      "image/png": "[encoded data removed]",
      "text/plain": [
       "<Figure size 432x288 with 1 Axes>"
      ]
     },
     "metadata": {},
     "output_type": "display_data"
    },
    {
     "data": {
      "image/png": "[encoded data removed]",
      "text/plain": [
       "<Figure size 432x288 with 1 Axes>"
      ]
     },
     "metadata": {},
     "output_type": "display_data"
    }
   ],
   "source": [
    "visualize_results(hist[\"accuracy\"], hist[\"val_accuracy\"], 'Accuracy')\n",
    "visualize_results(hist[\"precision_m\"], hist[\"val_precision_m\"], 'Precison')\n",
    "visualize_results(hist[\"recall_m\"], hist[\"val_recall_m\"], 'Recall')\n",
    "visualize_results(hist[\"f1_m\"], hist[\"val_f1_m\"], 'F1-Score')"
   ]
  },
  {
   "cell_type": "markdown",
   "metadata": {},
   "source": [
    "# Evaluation of the model"
   ]
  },
  {
   "cell_type": "code",
   "execution_count": 28,
   "metadata": {},
   "outputs": [],
   "source": [
    "from sklearn.metrics import classification_report, confusion_matrix\n"
   ]
  },
  {
   "cell_type": "code",
   "execution_count": 29,
   "metadata": {},
   "outputs": [],
   "source": [
    "def add_padding_sentences(sentence,max_length): \n",
    "    val_input_sequences=word_tokenizer.texts_to_sequences(sentence) #padding\n",
    "    val_input_sequences=np.array(pad_sequences(val_input_sequences,padding='post', maxlen=max_length))\n",
    "    return val_input_sequences\n",
    "def add_padding_labels(labels,max_length):\n",
    "    val_tag_sequence=label_tokenizer.texts_to_sequences(labels)\n",
    "    val_tag_sequence=np.array(pad_sequences(val_tag_sequence,padding='post', maxlen=max_length))\n",
    "    return val_tag_sequence\n",
    "def predict_model(sequences): #predict \n",
    "    test_pred=model.predict(sequences)\n",
    "    test_pred=test_pred.argmax(axis=-1)\n",
    "    return test_pred\n",
    "def flatten_values(value): \n",
    "    y_true_=value.flatten()\n",
    "    return_index= np.vectorize(label_tokenizer.index_word.get)(y_true_)\n",
    "    return return_index\n"
   ]
  },
  {
   "cell_type": "code",
   "execution_count": 46,
   "metadata": {},
   "outputs": [
    {
     "name": "stdout",
     "output_type": "stream",
     "text": [
      "              precision    recall  f1-score   support\n",
      "\n",
      "        None       0.99      1.00      0.99    343765\n",
      "       b-loc       0.00      0.00      0.00         6\n",
      "      b-misc       0.00      0.00      0.00         9\n",
      "       b-org       0.00      0.00      0.00         5\n",
      "       i-loc       0.49      0.45      0.47      1918\n",
      "      i-misc       0.52      0.46      0.49       909\n",
      "       i-org       0.72      0.49      0.58      2490\n",
      "       i-per       0.65      0.29      0.40      2771\n",
      "           o       0.90      0.85      0.87     38316\n",
      "\n",
      "    accuracy                           0.97    390189\n",
      "   macro avg       0.47      0.39      0.42    390189\n",
      "weighted avg       0.97      0.97      0.97    390189\n",
      "\n"
     ]
    }
   ],
   "source": [
    "val_input_sequences=add_padding_sentences(val_sentences,max_len)\n",
    "val_tag_sequences= add_padding_labels(val_tags,max_len)\n",
    "test_pred = predict_model(val_input_sequences)\n",
    "y_true_index=flatten_values(val_tag_sequences)\n",
    "test_pred_index=flatten_values(test_pred)\n",
    "print(classification_report(y_true_index, test_pred_index))"
   ]
  },
  {
   "cell_type": "code",
   "execution_count": 31,
   "metadata": {},
   "outputs": [],
   "source": [
    "Pred_df=pd.DataFrame({\n",
    "    \n",
    "    \"Word\": val_input_sequences.flatten(),\n",
    "    \"true\": val_tag_sequences.flatten(),\n",
    "    \"pred\": test_pred.flatten()\n",
    "    \n",
    "})\n",
    "\n",
    "def token_to_word(token):\n",
    "    if token!=0:\n",
    "        return word_tokenizer.index_word[token]\n",
    "    else:\n",
    "        return ''\n",
    "def label_token_to_word(token):\n",
    "     if token!=0:\n",
    "        return label_tokenizer.index_word[token]\n",
    "     else:\n",
    "        return ''\n",
    "    \n",
    "Pred_df.Word = Pred_df.Word.apply(token_to_word)\n",
    "Pred_df.true = Pred_df.true.apply(label_token_to_word)\n",
    "Pred_df.pred = Pred_df.pred.apply(label_token_to_word)\n",
    "\n",
    "\n",
    "\n",
    "    "
   ]
  },
  {
   "cell_type": "code",
   "execution_count": 32,
   "metadata": {},
   "outputs": [
    {
     "data": {
      "text/html": [
       "<div>\n",
       "<style scoped>\n",
       "    .dataframe tbody tr th:only-of-type {\n",
       "        vertical-align: middle;\n",
       "    }\n",
       "\n",
       "    .dataframe tbody tr th {\n",
       "        vertical-align: top;\n",
       "    }\n",
       "\n",
       "    .dataframe thead th {\n",
       "        text-align: right;\n",
       "    }\n",
       "</style>\n",
       "<table border=\"1\" class=\"dataframe\">\n",
       "  <thead>\n",
       "    <tr style=\"text-align: right;\">\n",
       "      <th></th>\n",
       "      <th>Word</th>\n",
       "      <th>true</th>\n",
       "      <th>pred</th>\n",
       "    </tr>\n",
       "  </thead>\n",
       "  <tbody>\n",
       "    <tr>\n",
       "      <th>2</th>\n",
       "      <td>japan</td>\n",
       "      <td>i-loc</td>\n",
       "      <td>i-loc</td>\n",
       "    </tr>\n",
       "    <tr>\n",
       "      <th>7</th>\n",
       "      <td>china</td>\n",
       "      <td>i-per</td>\n",
       "      <td>i-loc</td>\n",
       "    </tr>\n",
       "    <tr>\n",
       "      <th>228</th>\n",
       "      <td>arab</td>\n",
       "      <td>i-loc</td>\n",
       "      <td>i-loc</td>\n",
       "    </tr>\n",
       "    <tr>\n",
       "      <th>229</th>\n",
       "      <td>emirates</td>\n",
       "      <td>i-loc</td>\n",
       "      <td>i-loc</td>\n",
       "    </tr>\n",
       "    <tr>\n",
       "      <th>339</th>\n",
       "      <td>japan</td>\n",
       "      <td>i-loc</td>\n",
       "      <td>i-loc</td>\n",
       "    </tr>\n",
       "    <tr>\n",
       "      <th>345</th>\n",
       "      <td>asian</td>\n",
       "      <td>i-misc</td>\n",
       "      <td>i-misc</td>\n",
       "    </tr>\n",
       "    <tr>\n",
       "      <th>346</th>\n",
       "      <td>cup</td>\n",
       "      <td>i-misc</td>\n",
       "      <td>i-misc</td>\n",
       "    </tr>\n",
       "    <tr>\n",
       "      <th>354</th>\n",
       "      <td>syria</td>\n",
       "      <td>i-loc</td>\n",
       "      <td>i-loc</td>\n",
       "    </tr>\n",
       "    <tr>\n",
       "      <th>453</th>\n",
       "      <td>china</td>\n",
       "      <td>i-loc</td>\n",
       "      <td>i-loc</td>\n",
       "    </tr>\n",
       "    <tr>\n",
       "      <th>475</th>\n",
       "      <td>.</td>\n",
       "      <td>i-loc</td>\n",
       "      <td>o</td>\n",
       "    </tr>\n",
       "    <tr>\n",
       "      <th>565</th>\n",
       "      <td>china</td>\n",
       "      <td>i-loc</td>\n",
       "      <td>i-loc</td>\n",
       "    </tr>\n",
       "    <tr>\n",
       "      <th>581</th>\n",
       "      <td>striker</td>\n",
       "      <td>i-misc</td>\n",
       "      <td>o</td>\n",
       "    </tr>\n",
       "    <tr>\n",
       "      <th>583</th>\n",
       "      <td>advantage</td>\n",
       "      <td>i-per</td>\n",
       "      <td>o</td>\n",
       "    </tr>\n",
       "    <tr>\n",
       "      <th>584</th>\n",
       "      <td>of</td>\n",
       "      <td>i-per</td>\n",
       "      <td>o</td>\n",
       "    </tr>\n",
       "    <tr>\n",
       "      <th>599</th>\n",
       "      <td>an</td>\n",
       "      <td>i-misc</td>\n",
       "      <td>o</td>\n",
       "    </tr>\n",
       "    <tr>\n",
       "      <th>678</th>\n",
       "      <td>made</td>\n",
       "      <td>i-per</td>\n",
       "      <td>o</td>\n",
       "    </tr>\n",
       "    <tr>\n",
       "      <th>679</th>\n",
       "      <td>sure</td>\n",
       "      <td>i-per</td>\n",
       "      <td>o</td>\n",
       "    </tr>\n",
       "    <tr>\n",
       "      <th>793</th>\n",
       "      <td>soviet</td>\n",
       "      <td>i-misc</td>\n",
       "      <td>i-misc</td>\n",
       "    </tr>\n",
       "    <tr>\n",
       "      <th>799</th>\n",
       "      <td>asian</td>\n",
       "      <td>i-misc</td>\n",
       "      <td>i-misc</td>\n",
       "    </tr>\n",
       "    <tr>\n",
       "      <th>800</th>\n",
       "      <td>cup</td>\n",
       "      <td>i-misc</td>\n",
       "      <td>i-misc</td>\n",
       "    </tr>\n",
       "    <tr>\n",
       "      <th>907</th>\n",
       "      <td>asian</td>\n",
       "      <td>i-misc</td>\n",
       "      <td>i-misc</td>\n",
       "    </tr>\n",
       "    <tr>\n",
       "      <th>908</th>\n",
       "      <td>games</td>\n",
       "      <td>i-misc</td>\n",
       "      <td>i-misc</td>\n",
       "    </tr>\n",
       "    <tr>\n",
       "      <th>914</th>\n",
       "      <td>are</td>\n",
       "      <td>i-loc</td>\n",
       "      <td>o</td>\n",
       "    </tr>\n",
       "    <tr>\n",
       "      <th>1028</th>\n",
       "      <td>japan</td>\n",
       "      <td>i-loc</td>\n",
       "      <td>i-loc</td>\n",
       "    </tr>\n",
       "    <tr>\n",
       "      <th>1043</th>\n",
       "      <td>syria</td>\n",
       "      <td>i-loc</td>\n",
       "      <td>i-loc</td>\n",
       "    </tr>\n",
       "    <tr>\n",
       "      <th>1130</th>\n",
       "      <td>scored</td>\n",
       "      <td>i-per</td>\n",
       "      <td>o</td>\n",
       "    </tr>\n",
       "    <tr>\n",
       "      <th>1131</th>\n",
       "      <td>the</td>\n",
       "      <td>i-per</td>\n",
       "      <td>o</td>\n",
       "    </tr>\n",
       "    <tr>\n",
       "      <th>1144</th>\n",
       "      <td>syrian</td>\n",
       "      <td>i-per</td>\n",
       "      <td>i-misc</td>\n",
       "    </tr>\n",
       "    <tr>\n",
       "      <th>1145</th>\n",
       "      <td>goal</td>\n",
       "      <td>i-per</td>\n",
       "      <td>o</td>\n",
       "    </tr>\n",
       "    <tr>\n",
       "      <th>1149</th>\n",
       "      <td>to</td>\n",
       "      <td>i-misc</td>\n",
       "      <td>o</td>\n",
       "    </tr>\n",
       "    <tr>\n",
       "      <th>1153</th>\n",
       "      <td>then</td>\n",
       "      <td>i-per</td>\n",
       "      <td>o</td>\n",
       "    </tr>\n",
       "    <tr>\n",
       "      <th>1154</th>\n",
       "      <td>allowed</td>\n",
       "      <td>i-per</td>\n",
       "      <td>o</td>\n",
       "    </tr>\n",
       "    <tr>\n",
       "      <th>1250</th>\n",
       "      <td>syria</td>\n",
       "      <td>i-loc</td>\n",
       "      <td>i-loc</td>\n",
       "    </tr>\n",
       "    <tr>\n",
       "      <th>1357</th>\n",
       "      <td>hassan</td>\n",
       "      <td>i-per</td>\n",
       "      <td>i-per</td>\n",
       "    </tr>\n",
       "    <tr>\n",
       "      <th>1358</th>\n",
       "      <td>abbas</td>\n",
       "      <td>i-per</td>\n",
       "      <td>i-per</td>\n",
       "    </tr>\n",
       "    <tr>\n",
       "      <th>1383</th>\n",
       "      <td>.</td>\n",
       "      <td>i-per</td>\n",
       "      <td>o</td>\n",
       "    </tr>\n",
       "    <tr>\n",
       "      <th>1469</th>\n",
       "      <td>had</td>\n",
       "      <td>i-per</td>\n",
       "      <td>o</td>\n",
       "    </tr>\n",
       "    <tr>\n",
       "      <th>1470</th>\n",
       "      <td>given</td>\n",
       "      <td>i-per</td>\n",
       "      <td>o</td>\n",
       "    </tr>\n",
       "    <tr>\n",
       "      <th>1473</th>\n",
       "      <td>lead</td>\n",
       "      <td>i-loc</td>\n",
       "      <td>o</td>\n",
       "    </tr>\n",
       "    <tr>\n",
       "      <th>1582</th>\n",
       "      <td>japan</td>\n",
       "      <td>i-loc</td>\n",
       "      <td>i-loc</td>\n",
       "    </tr>\n",
       "    <tr>\n",
       "      <th>1588</th>\n",
       "      <td>penalty</td>\n",
       "      <td>i-misc</td>\n",
       "      <td>o</td>\n",
       "    </tr>\n",
       "    <tr>\n",
       "      <th>1600</th>\n",
       "      <td>.</td>\n",
       "      <td>i-misc</td>\n",
       "      <td>o</td>\n",
       "    </tr>\n",
       "    <tr>\n",
       "      <th>1695</th>\n",
       "      <td>pulled</td>\n",
       "      <td>i-per</td>\n",
       "      <td>o</td>\n",
       "    </tr>\n",
       "    <tr>\n",
       "      <th>1808</th>\n",
       "      <td>japan</td>\n",
       "      <td>i-loc</td>\n",
       "      <td>i-loc</td>\n",
       "    </tr>\n",
       "    <tr>\n",
       "      <th>1810</th>\n",
       "      <td>said</td>\n",
       "      <td>i-per</td>\n",
       "      <td>o</td>\n",
       "    </tr>\n",
       "    <tr>\n",
       "      <th>1811</th>\n",
       "      <td>:</td>\n",
       "      <td>i-per</td>\n",
       "      <td>o</td>\n",
       "    </tr>\n",
       "    <tr>\n",
       "      <th>1817</th>\n",
       "      <td>goal</td>\n",
       "      <td>i-misc</td>\n",
       "      <td>o</td>\n",
       "    </tr>\n",
       "    <tr>\n",
       "      <th>1922</th>\n",
       "      <td>syrians</td>\n",
       "      <td>i-misc</td>\n",
       "      <td>i-misc</td>\n",
       "    </tr>\n",
       "    <tr>\n",
       "      <th>2147</th>\n",
       "      <td>japan</td>\n",
       "      <td>i-loc</td>\n",
       "      <td>i-loc</td>\n",
       "    </tr>\n",
       "    <tr>\n",
       "      <th>2152</th>\n",
       "      <td>cup</td>\n",
       "      <td>i-misc</td>\n",
       "      <td>i-misc</td>\n",
       "    </tr>\n",
       "  </tbody>\n",
       "</table>\n",
       "</div>"
      ],
      "text/plain": [
       "           Word    true    pred\n",
       "2     japan      i-loc   i-loc \n",
       "7     china      i-per   i-loc \n",
       "228   arab       i-loc   i-loc \n",
       "229   emirates   i-loc   i-loc \n",
       "339   japan      i-loc   i-loc \n",
       "345   asian      i-misc  i-misc\n",
       "346   cup        i-misc  i-misc\n",
       "354   syria      i-loc   i-loc \n",
       "453   china      i-loc   i-loc \n",
       "475   .          i-loc   o     \n",
       "565   china      i-loc   i-loc \n",
       "581   striker    i-misc  o     \n",
       "583   advantage  i-per   o     \n",
       "584   of         i-per   o     \n",
       "599   an         i-misc  o     \n",
       "678   made       i-per   o     \n",
       "679   sure       i-per   o     \n",
       "793   soviet     i-misc  i-misc\n",
       "799   asian      i-misc  i-misc\n",
       "800   cup        i-misc  i-misc\n",
       "907   asian      i-misc  i-misc\n",
       "908   games      i-misc  i-misc\n",
       "914   are        i-loc   o     \n",
       "1028  japan      i-loc   i-loc \n",
       "1043  syria      i-loc   i-loc \n",
       "1130  scored     i-per   o     \n",
       "1131  the        i-per   o     \n",
       "1144  syrian     i-per   i-misc\n",
       "1145  goal       i-per   o     \n",
       "1149  to         i-misc  o     \n",
       "1153  then       i-per   o     \n",
       "1154  allowed    i-per   o     \n",
       "1250  syria      i-loc   i-loc \n",
       "1357  hassan     i-per   i-per \n",
       "1358  abbas      i-per   i-per \n",
       "1383  .          i-per   o     \n",
       "1469  had        i-per   o     \n",
       "1470  given      i-per   o     \n",
       "1473  lead       i-loc   o     \n",
       "1582  japan      i-loc   i-loc \n",
       "1588  penalty    i-misc  o     \n",
       "1600  .          i-misc  o     \n",
       "1695  pulled     i-per   o     \n",
       "1808  japan      i-loc   i-loc \n",
       "1810  said       i-per   o     \n",
       "1811  :          i-per   o     \n",
       "1817  goal       i-misc  o     \n",
       "1922  syrians    i-misc  i-misc\n",
       "2147  japan      i-loc   i-loc \n",
       "2152  cup        i-misc  i-misc"
      ]
     },
     "execution_count": 32,
     "metadata": {},
     "output_type": "execute_result"
    }
   ],
   "source": [
    "Pred_df[(Pred_df.Word !=',') &(Pred_df.Word !='') & (Pred_df.true != 'o' )].iloc[:50]"
   ]
  },
  {
   "cell_type": "markdown",
   "metadata": {},
   "source": [
    "#### Observations\n",
    "\n",
    "- None: None has high value because of padding layer. In order to avoid it we need to add mask_zero=True in embedding layer. \n",
    "- Following tags has been predicted:iloc, i-misc, i-org, i-per <br/>\n",
    "- Other tags have not been found, we need more state-of-the-art method to improve our results. As CRF can find more patterns within a text\n",
    "so I tried it but didnt get good results because mistakenly I haved used old version which was  deprecated. <br/>\n",
    "- This model could improve more if we use character embedding or GloVe embeddings.\n",
    "- Bert Model could improve the results. (state of the art method)\n",
    "\n"
   ]
  }
 ],
 "metadata": {
  "kernelspec": {
   "display_name": "Python 3",
   "language": "python",
   "name": "python3"
  },
  "language_info": {
   "codemirror_mode": {
    "name": "ipython",
    "version": 3
   },
   "file_extension": ".py",
   "mimetype": "text/x-python",
   "name": "python",
   "nbconvert_exporter": "python",
   "pygments_lexer": "ipython3",
   "version": "3.7.6"
  }
 },
 "nbformat": 4,
 "nbformat_minor": 2
}
